{
 "cells": [
  {
   "cell_type": "markdown",
   "id": "a151314e-be40-40bc-af74-4df077c6c0e5",
   "metadata": {},
   "source": [
    "# Progetto di Data Manipulation and Visualization"
   ]
  },
  {
   "cell_type": "code",
   "execution_count": 7,
   "id": "f2e3da0c-7f33-40f1-b28b-8ace078c9632",
   "metadata": {},
   "outputs": [],
   "source": [
    "import pandas as pd\n",
    "import numpy as np"
   ]
  },
  {
   "cell_type": "code",
   "execution_count": 1,
   "id": "9bed90ee-2750-47ad-8d00-96f907e0b778",
   "metadata": {},
   "outputs": [],
   "source": [
    "import kaggle\n",
    "import os"
   ]
  },
  {
   "cell_type": "code",
   "execution_count": 9,
   "id": "24d79589-520a-4630-85d9-738d1fd9608f",
   "metadata": {},
   "outputs": [
    {
     "name": "stdout",
     "output_type": "stream",
     "text": [
      "Dataset URL: https://www.kaggle.com/datasets/lava18/google-play-store-apps\n"
     ]
    }
   ],
   "source": [
    "# Percorso di salvataggio (default nella cartella corrente)\n",
    "dataset_path = '.'  # I file saranno salvati nella stessa cartella dello script\n",
    "\n",
    "\n",
    "# Scaricare il dataset \"google-play-store-apps\" e \"google-play-store-user-reviews\" da Kaggle\n",
    "kaggle.api.dataset_download_files('lava18/google-play-store-apps', path=dataset_path, unzip=True)\n",
    "\n",
    "# Caricamento dei file CSV nei DataFrame\n",
    "df = pd.read_csv(os.path.join(dataset_path, 'googleplaystore.csv'))\n",
    "Gr = pd.read_csv(os.path.join(dataset_path, 'googleplaystore_user_reviews.csv'))"
   ]
  },
  {
   "cell_type": "markdown",
   "id": "f8e9a81a-7bdb-4b8e-985e-7ae33adf3090",
   "metadata": {},
   "source": [
    "Prima di iniziare il Data cleaning, si osservano i due dataframe per comprenderne la struttura e il contenuto."
   ]
  },
  {
   "cell_type": "code",
   "execution_count": 11,
   "id": "3e325c9e-5ecc-488d-910b-49cbc599b35f",
   "metadata": {},
   "outputs": [
    {
     "data": {
      "text/html": [
       "<div>\n",
       "<style scoped>\n",
       "    .dataframe tbody tr th:only-of-type {\n",
       "        vertical-align: middle;\n",
       "    }\n",
       "\n",
       "    .dataframe tbody tr th {\n",
       "        vertical-align: top;\n",
       "    }\n",
       "\n",
       "    .dataframe thead th {\n",
       "        text-align: right;\n",
       "    }\n",
       "</style>\n",
       "<table border=\"1\" class=\"dataframe\">\n",
       "  <thead>\n",
       "    <tr style=\"text-align: right;\">\n",
       "      <th></th>\n",
       "      <th>App</th>\n",
       "      <th>Category</th>\n",
       "      <th>Rating</th>\n",
       "      <th>Reviews</th>\n",
       "      <th>Size</th>\n",
       "      <th>Installs</th>\n",
       "      <th>Type</th>\n",
       "      <th>Price</th>\n",
       "      <th>Content Rating</th>\n",
       "      <th>Genres</th>\n",
       "      <th>Last Updated</th>\n",
       "      <th>Current Ver</th>\n",
       "      <th>Android Ver</th>\n",
       "    </tr>\n",
       "  </thead>\n",
       "  <tbody>\n",
       "    <tr>\n",
       "      <th>0</th>\n",
       "      <td>Photo Editor &amp; Candy Camera &amp; Grid &amp; ScrapBook</td>\n",
       "      <td>ART_AND_DESIGN</td>\n",
       "      <td>4.1</td>\n",
       "      <td>159</td>\n",
       "      <td>19M</td>\n",
       "      <td>10,000+</td>\n",
       "      <td>Free</td>\n",
       "      <td>0</td>\n",
       "      <td>Everyone</td>\n",
       "      <td>Art &amp; Design</td>\n",
       "      <td>January 7, 2018</td>\n",
       "      <td>1.0.0</td>\n",
       "      <td>4.0.3 and up</td>\n",
       "    </tr>\n",
       "    <tr>\n",
       "      <th>1</th>\n",
       "      <td>Coloring book moana</td>\n",
       "      <td>ART_AND_DESIGN</td>\n",
       "      <td>3.9</td>\n",
       "      <td>967</td>\n",
       "      <td>14M</td>\n",
       "      <td>500,000+</td>\n",
       "      <td>Free</td>\n",
       "      <td>0</td>\n",
       "      <td>Everyone</td>\n",
       "      <td>Art &amp; Design;Pretend Play</td>\n",
       "      <td>January 15, 2018</td>\n",
       "      <td>2.0.0</td>\n",
       "      <td>4.0.3 and up</td>\n",
       "    </tr>\n",
       "    <tr>\n",
       "      <th>2</th>\n",
       "      <td>U Launcher Lite – FREE Live Cool Themes, Hide ...</td>\n",
       "      <td>ART_AND_DESIGN</td>\n",
       "      <td>4.7</td>\n",
       "      <td>87510</td>\n",
       "      <td>8.7M</td>\n",
       "      <td>5,000,000+</td>\n",
       "      <td>Free</td>\n",
       "      <td>0</td>\n",
       "      <td>Everyone</td>\n",
       "      <td>Art &amp; Design</td>\n",
       "      <td>August 1, 2018</td>\n",
       "      <td>1.2.4</td>\n",
       "      <td>4.0.3 and up</td>\n",
       "    </tr>\n",
       "    <tr>\n",
       "      <th>3</th>\n",
       "      <td>Sketch - Draw &amp; Paint</td>\n",
       "      <td>ART_AND_DESIGN</td>\n",
       "      <td>4.5</td>\n",
       "      <td>215644</td>\n",
       "      <td>25M</td>\n",
       "      <td>50,000,000+</td>\n",
       "      <td>Free</td>\n",
       "      <td>0</td>\n",
       "      <td>Teen</td>\n",
       "      <td>Art &amp; Design</td>\n",
       "      <td>June 8, 2018</td>\n",
       "      <td>Varies with device</td>\n",
       "      <td>4.2 and up</td>\n",
       "    </tr>\n",
       "    <tr>\n",
       "      <th>4</th>\n",
       "      <td>Pixel Draw - Number Art Coloring Book</td>\n",
       "      <td>ART_AND_DESIGN</td>\n",
       "      <td>4.3</td>\n",
       "      <td>967</td>\n",
       "      <td>2.8M</td>\n",
       "      <td>100,000+</td>\n",
       "      <td>Free</td>\n",
       "      <td>0</td>\n",
       "      <td>Everyone</td>\n",
       "      <td>Art &amp; Design;Creativity</td>\n",
       "      <td>June 20, 2018</td>\n",
       "      <td>1.1</td>\n",
       "      <td>4.4 and up</td>\n",
       "    </tr>\n",
       "    <tr>\n",
       "      <th>...</th>\n",
       "      <td>...</td>\n",
       "      <td>...</td>\n",
       "      <td>...</td>\n",
       "      <td>...</td>\n",
       "      <td>...</td>\n",
       "      <td>...</td>\n",
       "      <td>...</td>\n",
       "      <td>...</td>\n",
       "      <td>...</td>\n",
       "      <td>...</td>\n",
       "      <td>...</td>\n",
       "      <td>...</td>\n",
       "      <td>...</td>\n",
       "    </tr>\n",
       "    <tr>\n",
       "      <th>10836</th>\n",
       "      <td>Sya9a Maroc - FR</td>\n",
       "      <td>FAMILY</td>\n",
       "      <td>4.5</td>\n",
       "      <td>38</td>\n",
       "      <td>53M</td>\n",
       "      <td>5,000+</td>\n",
       "      <td>Free</td>\n",
       "      <td>0</td>\n",
       "      <td>Everyone</td>\n",
       "      <td>Education</td>\n",
       "      <td>July 25, 2017</td>\n",
       "      <td>1.48</td>\n",
       "      <td>4.1 and up</td>\n",
       "    </tr>\n",
       "    <tr>\n",
       "      <th>10837</th>\n",
       "      <td>Fr. Mike Schmitz Audio Teachings</td>\n",
       "      <td>FAMILY</td>\n",
       "      <td>5.0</td>\n",
       "      <td>4</td>\n",
       "      <td>3.6M</td>\n",
       "      <td>100+</td>\n",
       "      <td>Free</td>\n",
       "      <td>0</td>\n",
       "      <td>Everyone</td>\n",
       "      <td>Education</td>\n",
       "      <td>July 6, 2018</td>\n",
       "      <td>1.0</td>\n",
       "      <td>4.1 and up</td>\n",
       "    </tr>\n",
       "    <tr>\n",
       "      <th>10838</th>\n",
       "      <td>Parkinson Exercices FR</td>\n",
       "      <td>MEDICAL</td>\n",
       "      <td>NaN</td>\n",
       "      <td>3</td>\n",
       "      <td>9.5M</td>\n",
       "      <td>1,000+</td>\n",
       "      <td>Free</td>\n",
       "      <td>0</td>\n",
       "      <td>Everyone</td>\n",
       "      <td>Medical</td>\n",
       "      <td>January 20, 2017</td>\n",
       "      <td>1.0</td>\n",
       "      <td>2.2 and up</td>\n",
       "    </tr>\n",
       "    <tr>\n",
       "      <th>10839</th>\n",
       "      <td>The SCP Foundation DB fr nn5n</td>\n",
       "      <td>BOOKS_AND_REFERENCE</td>\n",
       "      <td>4.5</td>\n",
       "      <td>114</td>\n",
       "      <td>Varies with device</td>\n",
       "      <td>1,000+</td>\n",
       "      <td>Free</td>\n",
       "      <td>0</td>\n",
       "      <td>Mature 17+</td>\n",
       "      <td>Books &amp; Reference</td>\n",
       "      <td>January 19, 2015</td>\n",
       "      <td>Varies with device</td>\n",
       "      <td>Varies with device</td>\n",
       "    </tr>\n",
       "    <tr>\n",
       "      <th>10840</th>\n",
       "      <td>iHoroscope - 2018 Daily Horoscope &amp; Astrology</td>\n",
       "      <td>LIFESTYLE</td>\n",
       "      <td>4.5</td>\n",
       "      <td>398307</td>\n",
       "      <td>19M</td>\n",
       "      <td>10,000,000+</td>\n",
       "      <td>Free</td>\n",
       "      <td>0</td>\n",
       "      <td>Everyone</td>\n",
       "      <td>Lifestyle</td>\n",
       "      <td>July 25, 2018</td>\n",
       "      <td>Varies with device</td>\n",
       "      <td>Varies with device</td>\n",
       "    </tr>\n",
       "  </tbody>\n",
       "</table>\n",
       "<p>10841 rows × 13 columns</p>\n",
       "</div>"
      ],
      "text/plain": [
       "                                                     App             Category  \\\n",
       "0         Photo Editor & Candy Camera & Grid & ScrapBook       ART_AND_DESIGN   \n",
       "1                                    Coloring book moana       ART_AND_DESIGN   \n",
       "2      U Launcher Lite – FREE Live Cool Themes, Hide ...       ART_AND_DESIGN   \n",
       "3                                  Sketch - Draw & Paint       ART_AND_DESIGN   \n",
       "4                  Pixel Draw - Number Art Coloring Book       ART_AND_DESIGN   \n",
       "...                                                  ...                  ...   \n",
       "10836                                   Sya9a Maroc - FR               FAMILY   \n",
       "10837                   Fr. Mike Schmitz Audio Teachings               FAMILY   \n",
       "10838                             Parkinson Exercices FR              MEDICAL   \n",
       "10839                      The SCP Foundation DB fr nn5n  BOOKS_AND_REFERENCE   \n",
       "10840      iHoroscope - 2018 Daily Horoscope & Astrology            LIFESTYLE   \n",
       "\n",
       "       Rating Reviews                Size     Installs  Type Price  \\\n",
       "0         4.1     159                 19M      10,000+  Free     0   \n",
       "1         3.9     967                 14M     500,000+  Free     0   \n",
       "2         4.7   87510                8.7M   5,000,000+  Free     0   \n",
       "3         4.5  215644                 25M  50,000,000+  Free     0   \n",
       "4         4.3     967                2.8M     100,000+  Free     0   \n",
       "...       ...     ...                 ...          ...   ...   ...   \n",
       "10836     4.5      38                 53M       5,000+  Free     0   \n",
       "10837     5.0       4                3.6M         100+  Free     0   \n",
       "10838     NaN       3                9.5M       1,000+  Free     0   \n",
       "10839     4.5     114  Varies with device       1,000+  Free     0   \n",
       "10840     4.5  398307                 19M  10,000,000+  Free     0   \n",
       "\n",
       "      Content Rating                     Genres      Last Updated  \\\n",
       "0           Everyone               Art & Design   January 7, 2018   \n",
       "1           Everyone  Art & Design;Pretend Play  January 15, 2018   \n",
       "2           Everyone               Art & Design    August 1, 2018   \n",
       "3               Teen               Art & Design      June 8, 2018   \n",
       "4           Everyone    Art & Design;Creativity     June 20, 2018   \n",
       "...              ...                        ...               ...   \n",
       "10836       Everyone                  Education     July 25, 2017   \n",
       "10837       Everyone                  Education      July 6, 2018   \n",
       "10838       Everyone                    Medical  January 20, 2017   \n",
       "10839     Mature 17+          Books & Reference  January 19, 2015   \n",
       "10840       Everyone                  Lifestyle     July 25, 2018   \n",
       "\n",
       "              Current Ver         Android Ver  \n",
       "0                   1.0.0        4.0.3 and up  \n",
       "1                   2.0.0        4.0.3 and up  \n",
       "2                   1.2.4        4.0.3 and up  \n",
       "3      Varies with device          4.2 and up  \n",
       "4                     1.1          4.4 and up  \n",
       "...                   ...                 ...  \n",
       "10836                1.48          4.1 and up  \n",
       "10837                 1.0          4.1 and up  \n",
       "10838                 1.0          2.2 and up  \n",
       "10839  Varies with device  Varies with device  \n",
       "10840  Varies with device  Varies with device  \n",
       "\n",
       "[10841 rows x 13 columns]"
      ]
     },
     "execution_count": 11,
     "metadata": {},
     "output_type": "execute_result"
    }
   ],
   "source": [
    "df"
   ]
  },
  {
   "cell_type": "code",
   "execution_count": 12,
   "id": "3637f4fe-d19a-4d63-a195-ae88de9cf443",
   "metadata": {},
   "outputs": [
    {
     "data": {
      "text/html": [
       "<div>\n",
       "<style scoped>\n",
       "    .dataframe tbody tr th:only-of-type {\n",
       "        vertical-align: middle;\n",
       "    }\n",
       "\n",
       "    .dataframe tbody tr th {\n",
       "        vertical-align: top;\n",
       "    }\n",
       "\n",
       "    .dataframe thead th {\n",
       "        text-align: right;\n",
       "    }\n",
       "</style>\n",
       "<table border=\"1\" class=\"dataframe\">\n",
       "  <thead>\n",
       "    <tr style=\"text-align: right;\">\n",
       "      <th></th>\n",
       "      <th>App</th>\n",
       "      <th>Translated_Review</th>\n",
       "      <th>Sentiment</th>\n",
       "      <th>Sentiment_Polarity</th>\n",
       "      <th>Sentiment_Subjectivity</th>\n",
       "    </tr>\n",
       "  </thead>\n",
       "  <tbody>\n",
       "    <tr>\n",
       "      <th>0</th>\n",
       "      <td>10 Best Foods for You</td>\n",
       "      <td>I like eat delicious food. That's I'm cooking ...</td>\n",
       "      <td>Positive</td>\n",
       "      <td>1.00</td>\n",
       "      <td>0.533333</td>\n",
       "    </tr>\n",
       "    <tr>\n",
       "      <th>1</th>\n",
       "      <td>10 Best Foods for You</td>\n",
       "      <td>This help eating healthy exercise regular basis</td>\n",
       "      <td>Positive</td>\n",
       "      <td>0.25</td>\n",
       "      <td>0.288462</td>\n",
       "    </tr>\n",
       "    <tr>\n",
       "      <th>2</th>\n",
       "      <td>10 Best Foods for You</td>\n",
       "      <td>NaN</td>\n",
       "      <td>NaN</td>\n",
       "      <td>NaN</td>\n",
       "      <td>NaN</td>\n",
       "    </tr>\n",
       "    <tr>\n",
       "      <th>3</th>\n",
       "      <td>10 Best Foods for You</td>\n",
       "      <td>Works great especially going grocery store</td>\n",
       "      <td>Positive</td>\n",
       "      <td>0.40</td>\n",
       "      <td>0.875000</td>\n",
       "    </tr>\n",
       "    <tr>\n",
       "      <th>4</th>\n",
       "      <td>10 Best Foods for You</td>\n",
       "      <td>Best idea us</td>\n",
       "      <td>Positive</td>\n",
       "      <td>1.00</td>\n",
       "      <td>0.300000</td>\n",
       "    </tr>\n",
       "    <tr>\n",
       "      <th>...</th>\n",
       "      <td>...</td>\n",
       "      <td>...</td>\n",
       "      <td>...</td>\n",
       "      <td>...</td>\n",
       "      <td>...</td>\n",
       "    </tr>\n",
       "    <tr>\n",
       "      <th>64290</th>\n",
       "      <td>Houzz Interior Design Ideas</td>\n",
       "      <td>NaN</td>\n",
       "      <td>NaN</td>\n",
       "      <td>NaN</td>\n",
       "      <td>NaN</td>\n",
       "    </tr>\n",
       "    <tr>\n",
       "      <th>64291</th>\n",
       "      <td>Houzz Interior Design Ideas</td>\n",
       "      <td>NaN</td>\n",
       "      <td>NaN</td>\n",
       "      <td>NaN</td>\n",
       "      <td>NaN</td>\n",
       "    </tr>\n",
       "    <tr>\n",
       "      <th>64292</th>\n",
       "      <td>Houzz Interior Design Ideas</td>\n",
       "      <td>NaN</td>\n",
       "      <td>NaN</td>\n",
       "      <td>NaN</td>\n",
       "      <td>NaN</td>\n",
       "    </tr>\n",
       "    <tr>\n",
       "      <th>64293</th>\n",
       "      <td>Houzz Interior Design Ideas</td>\n",
       "      <td>NaN</td>\n",
       "      <td>NaN</td>\n",
       "      <td>NaN</td>\n",
       "      <td>NaN</td>\n",
       "    </tr>\n",
       "    <tr>\n",
       "      <th>64294</th>\n",
       "      <td>Houzz Interior Design Ideas</td>\n",
       "      <td>NaN</td>\n",
       "      <td>NaN</td>\n",
       "      <td>NaN</td>\n",
       "      <td>NaN</td>\n",
       "    </tr>\n",
       "  </tbody>\n",
       "</table>\n",
       "<p>64295 rows × 5 columns</p>\n",
       "</div>"
      ],
      "text/plain": [
       "                               App  \\\n",
       "0            10 Best Foods for You   \n",
       "1            10 Best Foods for You   \n",
       "2            10 Best Foods for You   \n",
       "3            10 Best Foods for You   \n",
       "4            10 Best Foods for You   \n",
       "...                            ...   \n",
       "64290  Houzz Interior Design Ideas   \n",
       "64291  Houzz Interior Design Ideas   \n",
       "64292  Houzz Interior Design Ideas   \n",
       "64293  Houzz Interior Design Ideas   \n",
       "64294  Houzz Interior Design Ideas   \n",
       "\n",
       "                                       Translated_Review Sentiment  \\\n",
       "0      I like eat delicious food. That's I'm cooking ...  Positive   \n",
       "1        This help eating healthy exercise regular basis  Positive   \n",
       "2                                                    NaN       NaN   \n",
       "3             Works great especially going grocery store  Positive   \n",
       "4                                           Best idea us  Positive   \n",
       "...                                                  ...       ...   \n",
       "64290                                                NaN       NaN   \n",
       "64291                                                NaN       NaN   \n",
       "64292                                                NaN       NaN   \n",
       "64293                                                NaN       NaN   \n",
       "64294                                                NaN       NaN   \n",
       "\n",
       "       Sentiment_Polarity  Sentiment_Subjectivity  \n",
       "0                    1.00                0.533333  \n",
       "1                    0.25                0.288462  \n",
       "2                     NaN                     NaN  \n",
       "3                    0.40                0.875000  \n",
       "4                    1.00                0.300000  \n",
       "...                   ...                     ...  \n",
       "64290                 NaN                     NaN  \n",
       "64291                 NaN                     NaN  \n",
       "64292                 NaN                     NaN  \n",
       "64293                 NaN                     NaN  \n",
       "64294                 NaN                     NaN  \n",
       "\n",
       "[64295 rows x 5 columns]"
      ]
     },
     "execution_count": 12,
     "metadata": {},
     "output_type": "execute_result"
    }
   ],
   "source": [
    "Gr"
   ]
  },
  {
   "cell_type": "markdown",
   "id": "5b278941-3e14-46f7-9303-4d81baa36806",
   "metadata": {},
   "source": [
    "Il dataframe Gr (Googleplaystore Reviews) contiene record con valori Sentiment pari a NaN.  \n",
    "Poiché non è possibile riempire questi valori mancanti e tali record risultano inutili per le analisi, si procede con la loro eliminazione.\n",
    "Si selezionano ed eliminano le righe contenenti NaN nel subset del Sentiment.\n"
   ]
  },
  {
   "cell_type": "code",
   "execution_count": 17,
   "id": "8328d2d2-c262-47fd-bd6b-69ce398d6ab6",
   "metadata": {},
   "outputs": [],
   "source": [
    "Gr.dropna(subset=['Sentiment'], inplace=True)"
   ]
  },
  {
   "cell_type": "markdown",
   "id": "1e0daeab-602f-47d4-a036-9e25defccb1d",
   "metadata": {},
   "source": [
    "Verifica"
   ]
  },
  {
   "cell_type": "code",
   "execution_count": 20,
   "id": "af8b97fd-7f62-4169-97c9-191bbf8ff951",
   "metadata": {},
   "outputs": [
    {
     "data": {
      "text/html": [
       "<div>\n",
       "<style scoped>\n",
       "    .dataframe tbody tr th:only-of-type {\n",
       "        vertical-align: middle;\n",
       "    }\n",
       "\n",
       "    .dataframe tbody tr th {\n",
       "        vertical-align: top;\n",
       "    }\n",
       "\n",
       "    .dataframe thead th {\n",
       "        text-align: right;\n",
       "    }\n",
       "</style>\n",
       "<table border=\"1\" class=\"dataframe\">\n",
       "  <thead>\n",
       "    <tr style=\"text-align: right;\">\n",
       "      <th></th>\n",
       "      <th>App</th>\n",
       "      <th>Translated_Review</th>\n",
       "      <th>Sentiment</th>\n",
       "      <th>Sentiment_Polarity</th>\n",
       "      <th>Sentiment_Subjectivity</th>\n",
       "    </tr>\n",
       "  </thead>\n",
       "  <tbody>\n",
       "    <tr>\n",
       "      <th>0</th>\n",
       "      <td>10 Best Foods for You</td>\n",
       "      <td>I like eat delicious food. That's I'm cooking ...</td>\n",
       "      <td>Positive</td>\n",
       "      <td>1.000000</td>\n",
       "      <td>0.533333</td>\n",
       "    </tr>\n",
       "    <tr>\n",
       "      <th>1</th>\n",
       "      <td>10 Best Foods for You</td>\n",
       "      <td>This help eating healthy exercise regular basis</td>\n",
       "      <td>Positive</td>\n",
       "      <td>0.250000</td>\n",
       "      <td>0.288462</td>\n",
       "    </tr>\n",
       "    <tr>\n",
       "      <th>3</th>\n",
       "      <td>10 Best Foods for You</td>\n",
       "      <td>Works great especially going grocery store</td>\n",
       "      <td>Positive</td>\n",
       "      <td>0.400000</td>\n",
       "      <td>0.875000</td>\n",
       "    </tr>\n",
       "    <tr>\n",
       "      <th>4</th>\n",
       "      <td>10 Best Foods for You</td>\n",
       "      <td>Best idea us</td>\n",
       "      <td>Positive</td>\n",
       "      <td>1.000000</td>\n",
       "      <td>0.300000</td>\n",
       "    </tr>\n",
       "    <tr>\n",
       "      <th>5</th>\n",
       "      <td>10 Best Foods for You</td>\n",
       "      <td>Best way</td>\n",
       "      <td>Positive</td>\n",
       "      <td>1.000000</td>\n",
       "      <td>0.300000</td>\n",
       "    </tr>\n",
       "    <tr>\n",
       "      <th>...</th>\n",
       "      <td>...</td>\n",
       "      <td>...</td>\n",
       "      <td>...</td>\n",
       "      <td>...</td>\n",
       "      <td>...</td>\n",
       "    </tr>\n",
       "    <tr>\n",
       "      <th>64222</th>\n",
       "      <td>Housing-Real Estate &amp; Property</td>\n",
       "      <td>Most ads older many agents ..not much owner po...</td>\n",
       "      <td>Positive</td>\n",
       "      <td>0.173333</td>\n",
       "      <td>0.486667</td>\n",
       "    </tr>\n",
       "    <tr>\n",
       "      <th>64223</th>\n",
       "      <td>Housing-Real Estate &amp; Property</td>\n",
       "      <td>If photos posted portal load, fit purpose. I'm...</td>\n",
       "      <td>Positive</td>\n",
       "      <td>0.225000</td>\n",
       "      <td>0.447222</td>\n",
       "    </tr>\n",
       "    <tr>\n",
       "      <th>64226</th>\n",
       "      <td>Housing-Real Estate &amp; Property</td>\n",
       "      <td>Dumb app, I wanted post property rent give opt...</td>\n",
       "      <td>Negative</td>\n",
       "      <td>-0.287500</td>\n",
       "      <td>0.250000</td>\n",
       "    </tr>\n",
       "    <tr>\n",
       "      <th>64227</th>\n",
       "      <td>Housing-Real Estate &amp; Property</td>\n",
       "      <td>I property business got link SMS happy perform...</td>\n",
       "      <td>Positive</td>\n",
       "      <td>0.800000</td>\n",
       "      <td>1.000000</td>\n",
       "    </tr>\n",
       "    <tr>\n",
       "      <th>64230</th>\n",
       "      <td>Housing-Real Estate &amp; Property</td>\n",
       "      <td>Useless app, I searched flats kondapur, Hydera...</td>\n",
       "      <td>Negative</td>\n",
       "      <td>-0.316667</td>\n",
       "      <td>0.400000</td>\n",
       "    </tr>\n",
       "  </tbody>\n",
       "</table>\n",
       "<p>37432 rows × 5 columns</p>\n",
       "</div>"
      ],
      "text/plain": [
       "                                  App  \\\n",
       "0               10 Best Foods for You   \n",
       "1               10 Best Foods for You   \n",
       "3               10 Best Foods for You   \n",
       "4               10 Best Foods for You   \n",
       "5               10 Best Foods for You   \n",
       "...                               ...   \n",
       "64222  Housing-Real Estate & Property   \n",
       "64223  Housing-Real Estate & Property   \n",
       "64226  Housing-Real Estate & Property   \n",
       "64227  Housing-Real Estate & Property   \n",
       "64230  Housing-Real Estate & Property   \n",
       "\n",
       "                                       Translated_Review Sentiment  \\\n",
       "0      I like eat delicious food. That's I'm cooking ...  Positive   \n",
       "1        This help eating healthy exercise regular basis  Positive   \n",
       "3             Works great especially going grocery store  Positive   \n",
       "4                                           Best idea us  Positive   \n",
       "5                                               Best way  Positive   \n",
       "...                                                  ...       ...   \n",
       "64222  Most ads older many agents ..not much owner po...  Positive   \n",
       "64223  If photos posted portal load, fit purpose. I'm...  Positive   \n",
       "64226  Dumb app, I wanted post property rent give opt...  Negative   \n",
       "64227  I property business got link SMS happy perform...  Positive   \n",
       "64230  Useless app, I searched flats kondapur, Hydera...  Negative   \n",
       "\n",
       "       Sentiment_Polarity  Sentiment_Subjectivity  \n",
       "0                1.000000                0.533333  \n",
       "1                0.250000                0.288462  \n",
       "3                0.400000                0.875000  \n",
       "4                1.000000                0.300000  \n",
       "5                1.000000                0.300000  \n",
       "...                   ...                     ...  \n",
       "64222            0.173333                0.486667  \n",
       "64223            0.225000                0.447222  \n",
       "64226           -0.287500                0.250000  \n",
       "64227            0.800000                1.000000  \n",
       "64230           -0.316667                0.400000  \n",
       "\n",
       "[37432 rows x 5 columns]"
      ]
     },
     "execution_count": 20,
     "metadata": {},
     "output_type": "execute_result"
    }
   ],
   "source": [
    "Gr"
   ]
  },
  {
   "cell_type": "markdown",
   "id": "78e3a1b7-cd38-42ca-b098-dbee8c581831",
   "metadata": {},
   "source": [
    "Si verifica la presenza di eventuali altri valori NaN nel dataframe."
   ]
  },
  {
   "cell_type": "code",
   "execution_count": 23,
   "id": "49cf2304-4770-45d9-a541-22fdf447aaa2",
   "metadata": {},
   "outputs": [
    {
     "name": "stdout",
     "output_type": "stream",
     "text": [
      "                                             App Translated_Review Sentiment  \\\n",
      "268                                         11st               NaN   Neutral   \n",
      "15048        Birds Sounds Ringtones & Wallpapers               NaN   Neutral   \n",
      "22092             Calorie Counter - MyFitnessPal               NaN   Neutral   \n",
      "31623                                  DC Comics               NaN   Neutral   \n",
      "52500  Garden Photo Frames - Garden Photo Editor               NaN   Neutral   \n",
      "\n",
      "       Sentiment_Polarity  Sentiment_Subjectivity  \n",
      "268                   0.0                     0.0  \n",
      "15048                 0.0                     0.0  \n",
      "22092                 0.0                     0.0  \n",
      "31623                 0.0                     0.0  \n",
      "52500                 0.0                     0.0  \n"
     ]
    }
   ],
   "source": [
    "# Selezionare le righe con NaN nella colonna 'Translated_Rewiew'\n",
    "gr_nan = Gr[Gr['Translated_Review'].isna()]\n",
    "\n",
    "# Mostrare le prime righe del dataframe filtrato\n",
    "print(gr_nan.head())"
   ]
  },
  {
   "cell_type": "code",
   "execution_count": 25,
   "id": "a7e30251-8c50-4111-859b-b8e9be81182c",
   "metadata": {},
   "outputs": [
    {
     "name": "stdout",
     "output_type": "stream",
     "text": [
      "Empty DataFrame\n",
      "Columns: [App, Translated_Review, Sentiment, Sentiment_Polarity, Sentiment_Subjectivity]\n",
      "Index: []\n"
     ]
    }
   ],
   "source": [
    "# Selezionare le righe con NaN nella colonna 'Translated_Rewiew'\n",
    "gr_nan1 = Gr[Gr['Sentiment_Polarity'].isna()]\n",
    "\n",
    "# Mostrare le prime righe del dataframe filtrato\n",
    "print(gr_nan1.head())"
   ]
  },
  {
   "cell_type": "code",
   "execution_count": 27,
   "id": "b00a0e65-b0c0-4b45-b4d1-f2b4fc001db1",
   "metadata": {},
   "outputs": [
    {
     "name": "stdout",
     "output_type": "stream",
     "text": [
      "Empty DataFrame\n",
      "Columns: [App, Translated_Review, Sentiment, Sentiment_Polarity, Sentiment_Subjectivity]\n",
      "Index: []\n"
     ]
    }
   ],
   "source": [
    "# Selezionare le righe con NaN nella colonna 'Translated_Rewiew'\n",
    "gr_nan2 = Gr[Gr['Sentiment_Subjectivity'].isna()]\n",
    "\n",
    "# Mostrare le prime righe del dataframe filtrato\n",
    "print(gr_nan2.head())"
   ]
  },
  {
   "cell_type": "markdown",
   "id": "ccee6677-c805-4fe5-beb2-c54ec1b13c2b",
   "metadata": {},
   "source": [
    "I record con Recensioni assenti hanno comunque validità, dal momento che esiste il sentiment Neutral.  \n",
    "Per cui,  **il dataframe Gr è ripulito**"
   ]
  },
  {
   "cell_type": "markdown",
   "id": "314a7433-636e-40f3-a4fb-e610bfafbd92",
   "metadata": {},
   "source": [
    "#### Pulizia Dataframe 'df'"
   ]
  },
  {
   "cell_type": "markdown",
   "id": "44fc0c48-7d2e-4b09-b3c3-cfb0de392c87",
   "metadata": {},
   "source": [
    "Prima di procedere, è necessario ottenere una panoramica del dataframe."
   ]
  },
  {
   "cell_type": "code",
   "execution_count": 32,
   "id": "4a994a8b-b562-435a-a4ac-d257773318fb",
   "metadata": {},
   "outputs": [
    {
     "data": {
      "text/plain": [
       "(10841, 13)"
      ]
     },
     "execution_count": 32,
     "metadata": {},
     "output_type": "execute_result"
    }
   ],
   "source": [
    "df.shape"
   ]
  },
  {
   "cell_type": "code",
   "execution_count": 34,
   "id": "2a9eeb86-79cf-435c-9486-0b7b34edeb65",
   "metadata": {},
   "outputs": [
    {
     "data": {
      "text/plain": [
       "App               9660\n",
       "Category            34\n",
       "Rating              40\n",
       "Reviews           6002\n",
       "Size               462\n",
       "Installs            22\n",
       "Type                 3\n",
       "Price               93\n",
       "Content Rating       6\n",
       "Genres             120\n",
       "Last Updated      1378\n",
       "Current Ver       2832\n",
       "Android Ver         33\n",
       "dtype: int64"
      ]
     },
     "execution_count": 34,
     "metadata": {},
     "output_type": "execute_result"
    }
   ],
   "source": [
    "df.nunique()"
   ]
  },
  {
   "cell_type": "code",
   "execution_count": 36,
   "id": "1b0050a8-849d-4794-894f-bb9672865bd6",
   "metadata": {},
   "outputs": [
    {
     "data": {
      "text/plain": [
       "App                object\n",
       "Category           object\n",
       "Rating            float64\n",
       "Reviews            object\n",
       "Size               object\n",
       "Installs           object\n",
       "Type               object\n",
       "Price              object\n",
       "Content Rating     object\n",
       "Genres             object\n",
       "Last Updated       object\n",
       "Current Ver        object\n",
       "Android Ver        object\n",
       "dtype: object"
      ]
     },
     "execution_count": 36,
     "metadata": {},
     "output_type": "execute_result"
    }
   ],
   "source": [
    "df.dtypes"
   ]
  },
  {
   "cell_type": "markdown",
   "id": "1a1cf3ea-53ce-4285-a5d5-7e9bd63fa205",
   "metadata": {},
   "source": [
    "Dall'analisi dei tre output, si possono fare le seguenti osservazioni:  \n",
    "**1)** Il numero unico di App (nunique) è 9660, mentre i record totali sono 10.841, il che indica la presenza di duplicati     \n",
    "**2)** Il campo Type dovrebbe contenere solo i valori Free e Paid, ma presenta tre valori unici, segnalando un possibile errore.     \n",
    "**3)** Alcuni tipi di dato sono errati:  \n",
    "Review ed Installs dovrebbero essere trattati da interi,e Last Updated come un datetime."
   ]
  },
  {
   "cell_type": "code",
   "execution_count": 39,
   "id": "5bb71614-1494-4d59-a7c1-ecbd44a0deea",
   "metadata": {},
   "outputs": [],
   "source": [
    "# Conversione dei valori in numeri, sostituendo quelli non convertibili con NaN, e sostituendo i Nan in 0\n",
    "df[\"Reviews\"] = pd.to_numeric(df[\"Reviews\"], errors=\"coerce\").fillna(0).astype(int)"
   ]
  },
  {
   "cell_type": "code",
   "execution_count": 41,
   "id": "ee223054-6c9d-4422-9be4-b312f65d002b",
   "metadata": {},
   "outputs": [
    {
     "data": {
      "text/plain": [
       "array(['Free', 'Paid', nan, '0'], dtype=object)"
      ]
     },
     "execution_count": 41,
     "metadata": {},
     "output_type": "execute_result"
    }
   ],
   "source": [
    "df[\"Type\"].unique()"
   ]
  },
  {
   "cell_type": "markdown",
   "id": "c496bd1f-aa2d-453f-aad7-9705a531514d",
   "metadata": {},
   "source": [
    "Si estraggono i record in cui il campo Type è NaN oppure ha valore 0."
   ]
  },
  {
   "cell_type": "code",
   "execution_count": 44,
   "id": "f12a50a5-4e41-4f19-a1b7-f2f21472f8a9",
   "metadata": {},
   "outputs": [
    {
     "data": {
      "text/html": [
       "<div>\n",
       "<style scoped>\n",
       "    .dataframe tbody tr th:only-of-type {\n",
       "        vertical-align: middle;\n",
       "    }\n",
       "\n",
       "    .dataframe tbody tr th {\n",
       "        vertical-align: top;\n",
       "    }\n",
       "\n",
       "    .dataframe thead th {\n",
       "        text-align: right;\n",
       "    }\n",
       "</style>\n",
       "<table border=\"1\" class=\"dataframe\">\n",
       "  <thead>\n",
       "    <tr style=\"text-align: right;\">\n",
       "      <th></th>\n",
       "      <th>App</th>\n",
       "      <th>Category</th>\n",
       "      <th>Rating</th>\n",
       "      <th>Reviews</th>\n",
       "      <th>Size</th>\n",
       "      <th>Installs</th>\n",
       "      <th>Type</th>\n",
       "      <th>Price</th>\n",
       "      <th>Content Rating</th>\n",
       "      <th>Genres</th>\n",
       "      <th>Last Updated</th>\n",
       "      <th>Current Ver</th>\n",
       "      <th>Android Ver</th>\n",
       "    </tr>\n",
       "  </thead>\n",
       "  <tbody>\n",
       "    <tr>\n",
       "      <th>9148</th>\n",
       "      <td>Command &amp; Conquer: Rivals</td>\n",
       "      <td>FAMILY</td>\n",
       "      <td>NaN</td>\n",
       "      <td>0</td>\n",
       "      <td>Varies with device</td>\n",
       "      <td>0</td>\n",
       "      <td>NaN</td>\n",
       "      <td>0</td>\n",
       "      <td>Everyone 10+</td>\n",
       "      <td>Strategy</td>\n",
       "      <td>June 28, 2018</td>\n",
       "      <td>Varies with device</td>\n",
       "      <td>Varies with device</td>\n",
       "    </tr>\n",
       "  </tbody>\n",
       "</table>\n",
       "</div>"
      ],
      "text/plain": [
       "                            App Category  Rating  Reviews                Size  \\\n",
       "9148  Command & Conquer: Rivals   FAMILY     NaN        0  Varies with device   \n",
       "\n",
       "     Installs Type Price Content Rating    Genres   Last Updated  \\\n",
       "9148        0  NaN     0   Everyone 10+  Strategy  June 28, 2018   \n",
       "\n",
       "             Current Ver         Android Ver  \n",
       "9148  Varies with device  Varies with device  "
      ]
     },
     "execution_count": 44,
     "metadata": {},
     "output_type": "execute_result"
    }
   ],
   "source": [
    "df[df[\"Type\"].isna()]"
   ]
  },
  {
   "cell_type": "markdown",
   "id": "f6f09e36-44e4-4b4f-bb4c-35f9b6d69522",
   "metadata": {},
   "source": [
    "Dal momento che Price è 0, si puù sostituire Nan con Free"
   ]
  },
  {
   "cell_type": "code",
   "execution_count": 47,
   "id": "6a177466-3e65-4326-a030-4549fad03bc9",
   "metadata": {},
   "outputs": [],
   "source": [
    "df[\"Type\"].fillna(\"Free\", inplace=True)"
   ]
  },
  {
   "cell_type": "code",
   "execution_count": 49,
   "id": "3f12407d-f6e7-4369-8ffa-c9220dba92f9",
   "metadata": {},
   "outputs": [
    {
     "data": {
      "text/html": [
       "<div>\n",
       "<style scoped>\n",
       "    .dataframe tbody tr th:only-of-type {\n",
       "        vertical-align: middle;\n",
       "    }\n",
       "\n",
       "    .dataframe tbody tr th {\n",
       "        vertical-align: top;\n",
       "    }\n",
       "\n",
       "    .dataframe thead th {\n",
       "        text-align: right;\n",
       "    }\n",
       "</style>\n",
       "<table border=\"1\" class=\"dataframe\">\n",
       "  <thead>\n",
       "    <tr style=\"text-align: right;\">\n",
       "      <th></th>\n",
       "      <th>App</th>\n",
       "      <th>Category</th>\n",
       "      <th>Rating</th>\n",
       "      <th>Reviews</th>\n",
       "      <th>Size</th>\n",
       "      <th>Installs</th>\n",
       "      <th>Type</th>\n",
       "      <th>Price</th>\n",
       "      <th>Content Rating</th>\n",
       "      <th>Genres</th>\n",
       "      <th>Last Updated</th>\n",
       "      <th>Current Ver</th>\n",
       "      <th>Android Ver</th>\n",
       "    </tr>\n",
       "  </thead>\n",
       "  <tbody>\n",
       "    <tr>\n",
       "      <th>10472</th>\n",
       "      <td>Life Made WI-Fi Touchscreen Photo Frame</td>\n",
       "      <td>1.9</td>\n",
       "      <td>19.0</td>\n",
       "      <td>0</td>\n",
       "      <td>1,000+</td>\n",
       "      <td>Free</td>\n",
       "      <td>0</td>\n",
       "      <td>Everyone</td>\n",
       "      <td>NaN</td>\n",
       "      <td>February 11, 2018</td>\n",
       "      <td>1.0.19</td>\n",
       "      <td>4.0 and up</td>\n",
       "      <td>NaN</td>\n",
       "    </tr>\n",
       "  </tbody>\n",
       "</table>\n",
       "</div>"
      ],
      "text/plain": [
       "                                           App Category  Rating  Reviews  \\\n",
       "10472  Life Made WI-Fi Touchscreen Photo Frame      1.9    19.0        0   \n",
       "\n",
       "         Size Installs Type     Price Content Rating             Genres  \\\n",
       "10472  1,000+     Free    0  Everyone            NaN  February 11, 2018   \n",
       "\n",
       "      Last Updated Current Ver Android Ver  \n",
       "10472       1.0.19  4.0 and up         NaN  "
      ]
     },
     "execution_count": 49,
     "metadata": {},
     "output_type": "execute_result"
    }
   ],
   "source": [
    "#Type = 0\n",
    "df[df[\"Type\"] == '0']"
   ]
  },
  {
   "cell_type": "markdown",
   "id": "2b29b151-9aba-482f-ac1d-1134093f733b",
   "metadata": {},
   "source": [
    "I valori sono sfarsati.  \n",
    "**Si procede con la correzione della categoria del record.**    \n",
    "Si verifica tra le categorie disponibili se è presente quella corretta,  \n",
    "che dovrebbe essere Photography in base al nome dell'app"
   ]
  },
  {
   "cell_type": "code",
   "execution_count": 52,
   "id": "3ced42cf-4cdc-4f9f-a3c5-c618cf984df7",
   "metadata": {},
   "outputs": [
    {
     "data": {
      "text/plain": [
       "array(['ART_AND_DESIGN', 'AUTO_AND_VEHICLES', 'BEAUTY',\n",
       "       'BOOKS_AND_REFERENCE', 'BUSINESS', 'COMICS', 'COMMUNICATION',\n",
       "       'DATING', 'EDUCATION', 'ENTERTAINMENT', 'EVENTS', 'FINANCE',\n",
       "       'FOOD_AND_DRINK', 'HEALTH_AND_FITNESS', 'HOUSE_AND_HOME',\n",
       "       'LIBRARIES_AND_DEMO', 'LIFESTYLE', 'GAME', 'FAMILY', 'MEDICAL',\n",
       "       'SOCIAL', 'SHOPPING', 'PHOTOGRAPHY', 'SPORTS', 'TRAVEL_AND_LOCAL',\n",
       "       'TOOLS', 'PERSONALIZATION', 'PRODUCTIVITY', 'PARENTING', 'WEATHER',\n",
       "       'VIDEO_PLAYERS', 'NEWS_AND_MAGAZINES', 'MAPS_AND_NAVIGATION',\n",
       "       '1.9'], dtype=object)"
      ]
     },
     "execution_count": 52,
     "metadata": {},
     "output_type": "execute_result"
    }
   ],
   "source": [
    "df[\"Category\"].unique()"
   ]
  },
  {
   "cell_type": "markdown",
   "id": "f90bb055-e2fe-4858-89d6-69a5d6961c6c",
   "metadata": {},
   "source": [
    "PHOTOGRAPHY è la categoria.   \n",
    "Si procede con l'analisi dei generi che rientrano in questa categoria"
   ]
  },
  {
   "cell_type": "code",
   "execution_count": 55,
   "id": "a16f5a6a-a4a9-4bfb-a244-070f74a7f5fe",
   "metadata": {},
   "outputs": [
    {
     "name": "stdout",
     "output_type": "stream",
     "text": [
      "['Photography']\n"
     ]
    }
   ],
   "source": [
    "photography_genres = df[df[\"Category\"] == \"PHOTOGRAPHY\"][\"Genres\"].unique()\n",
    "print(photography_genres)"
   ]
  },
  {
   "cell_type": "markdown",
   "id": "14b2271b-00ab-4dcd-9630-6498062ca212",
   "metadata": {},
   "source": [
    "Solo un genere appartiene a questa categoria.   \n",
    "Si aggiornano i valori della categoria e del tipo nel record, assicurandosi che tutti gli altri campi siano allineati correttamente"
   ]
  },
  {
   "cell_type": "code",
   "execution_count": 58,
   "id": "77920cb0-1a2f-44a3-bcb2-480738ea176e",
   "metadata": {},
   "outputs": [],
   "source": [
    "# Vengono filtrati solo le app di fotografia e viene creara una copia del dataset ((df_photography).\n",
    "df_photography = df[df[\"Category\"] == \"PHOTOGRAPHY\"].copy()\n",
    "#Modifica della colonna \"Size\" solo in df_photography, trasformando i valori numerici e rimuovendo la \"M\".\n",
    "df_photography[\"Size\"] = pd.to_numeric(df_photography[\"Size\"].str.replace(\"M\", \"\", regex=True), errors=\"coerce\")\n",
    "\n",
    "# Calcolo della media ignorando i NaN\n",
    "media_size_photography = df_photography[\"Size\"].mean()\n",
    "\n",
    "# Se la media esiste, la arrotonda e aggiunge \"M\"\n",
    "if not pd.isna(media_size_photography):\n",
    "    media_size_photography = f\"{round(media_size_photography, 1)}M\"\n",
    "else:\n",
    "    media_size_photography = \"Varies with device\"\n",
    "\n",
    "#Perchè questa operazione?\n",
    "#Perchè, osservando il record sfarsato, nessun valore è riconducibile al Size. Per cui si usa la media della categoria\n",
    "\n",
    "# Aggiornamento  dei valori dell'app specificata\n",
    "df.loc[df[\"App\"] == \"Life Made WI-Fi Touchscreen Photo Frame\", \n",
    "       [\"Category\", \"Rating\", \"Reviews\", \"Size\", \"Installs\", \"Type\", \"Price\", \n",
    "        \"Content Rating\", \"Genres\", \"Last Updated\", \"Current Ver\", \"Android Ver\"]] = [\n",
    "    \"PHOTOGRAPHY\", 1.9, 19, media_size_photography, \"1,000+\", \"Free\", 0, \n",
    "    \"Everyone\", \"Photography\", \"February 11, 2018\", \"1.0.19\", \"4.0 and up\"\n",
    "]"
   ]
  },
  {
   "cell_type": "code",
   "execution_count": 60,
   "id": "693fb57b-52b7-4e3b-bb15-b5db29a0ffea",
   "metadata": {},
   "outputs": [
    {
     "data": {
      "text/html": [
       "<div>\n",
       "<style scoped>\n",
       "    .dataframe tbody tr th:only-of-type {\n",
       "        vertical-align: middle;\n",
       "    }\n",
       "\n",
       "    .dataframe tbody tr th {\n",
       "        vertical-align: top;\n",
       "    }\n",
       "\n",
       "    .dataframe thead th {\n",
       "        text-align: right;\n",
       "    }\n",
       "</style>\n",
       "<table border=\"1\" class=\"dataframe\">\n",
       "  <thead>\n",
       "    <tr style=\"text-align: right;\">\n",
       "      <th></th>\n",
       "      <th>App</th>\n",
       "      <th>Category</th>\n",
       "      <th>Rating</th>\n",
       "      <th>Reviews</th>\n",
       "      <th>Size</th>\n",
       "      <th>Installs</th>\n",
       "      <th>Type</th>\n",
       "      <th>Price</th>\n",
       "      <th>Content Rating</th>\n",
       "      <th>Genres</th>\n",
       "      <th>Last Updated</th>\n",
       "      <th>Current Ver</th>\n",
       "      <th>Android Ver</th>\n",
       "    </tr>\n",
       "  </thead>\n",
       "  <tbody>\n",
       "    <tr>\n",
       "      <th>10472</th>\n",
       "      <td>Life Made WI-Fi Touchscreen Photo Frame</td>\n",
       "      <td>PHOTOGRAPHY</td>\n",
       "      <td>1.9</td>\n",
       "      <td>19</td>\n",
       "      <td>17.6M</td>\n",
       "      <td>1,000+</td>\n",
       "      <td>Free</td>\n",
       "      <td>0</td>\n",
       "      <td>Everyone</td>\n",
       "      <td>Photography</td>\n",
       "      <td>February 11, 2018</td>\n",
       "      <td>1.0.19</td>\n",
       "      <td>4.0 and up</td>\n",
       "    </tr>\n",
       "  </tbody>\n",
       "</table>\n",
       "</div>"
      ],
      "text/plain": [
       "                                           App     Category  Rating  Reviews  \\\n",
       "10472  Life Made WI-Fi Touchscreen Photo Frame  PHOTOGRAPHY     1.9       19   \n",
       "\n",
       "        Size Installs  Type Price Content Rating       Genres  \\\n",
       "10472  17.6M   1,000+  Free     0       Everyone  Photography   \n",
       "\n",
       "            Last Updated Current Ver Android Ver  \n",
       "10472  February 11, 2018      1.0.19  4.0 and up  "
      ]
     },
     "execution_count": 60,
     "metadata": {},
     "output_type": "execute_result"
    }
   ],
   "source": [
    "df[df[\"App\"] == \"Life Made WI-Fi Touchscreen Photo Frame\"]"
   ]
  },
  {
   "cell_type": "markdown",
   "id": "8a0c5123-1124-402b-a31d-03526f93e718",
   "metadata": {},
   "source": [
    "Conversione delle altre colonne in valori numerici"
   ]
  },
  {
   "cell_type": "code",
   "execution_count": 63,
   "id": "e14d035a-6556-4b1c-8872-cdfb1e516be8",
   "metadata": {},
   "outputs": [],
   "source": [
    "# La colonna Installs ha dei + nei vari record. Si eliminano e si convertono i valori in interi\n",
    "df[\"Installs\"] = df[\"Installs\"].str.replace(\"[+,]\", \"\", regex=True).astype(int).astype(\"Int64\")"
   ]
  },
  {
   "cell_type": "code",
   "execution_count": 65,
   "id": "3339049c-5726-4904-b43e-8124e00717f4",
   "metadata": {},
   "outputs": [],
   "source": [
    "# La colonna Price ha il simbolo $. Per eliminarli, convertire i valori in stringhe\n",
    "df['Price'] = df['Price'].astype(str).str.replace(r'[\\$,]', '', regex=True)"
   ]
  },
  {
   "cell_type": "code",
   "execution_count": 67,
   "id": "9b6dea77-77b6-42b2-98e4-b51c8c98f43e",
   "metadata": {},
   "outputs": [],
   "source": [
    "# Per mantenere esplicativi i dati di prezzo, si rinomina la colonna Price con il simbolo $  \n",
    "df.rename(columns={'Price': 'Price ($)'}, inplace=True)"
   ]
  },
  {
   "cell_type": "code",
   "execution_count": 69,
   "id": "ea034c8d-ca5f-47ee-ba46-ec9bcf171a34",
   "metadata": {},
   "outputs": [],
   "source": [
    "# Conversione in numeri\n",
    "df['Price ($)'] = pd.to_numeric(df['Price ($)'], errors='coerce')"
   ]
  },
  {
   "cell_type": "code",
   "execution_count": 71,
   "id": "48adb141-318b-40ee-9a5c-26c969b50baa",
   "metadata": {},
   "outputs": [],
   "source": [
    "# Conversione di Last Updated in Datetime, ignorando gli errori e forzando la conversione dove necessario\n",
    "df['Last Updated'] = pd.to_datetime(df['Last Updated'], errors='coerce')"
   ]
  },
  {
   "cell_type": "code",
   "execution_count": 73,
   "id": "80eef94f-4785-4d45-8521-223880ebd4aa",
   "metadata": {},
   "outputs": [
    {
     "name": "stdout",
     "output_type": "stream",
     "text": [
      "App                       object\n",
      "Category                  object\n",
      "Rating                   float64\n",
      "Reviews                    int32\n",
      "Size                      object\n",
      "Installs                   Int64\n",
      "Type                      object\n",
      "Price ($)                float64\n",
      "Content Rating            object\n",
      "Genres                    object\n",
      "Last Updated      datetime64[ns]\n",
      "Current Ver               object\n",
      "Android Ver               object\n",
      "dtype: object\n"
     ]
    }
   ],
   "source": [
    "print(df.dtypes)\n"
   ]
  },
  {
   "cell_type": "markdown",
   "id": "c34e029e-e524-40b8-a48f-ae274438ab66",
   "metadata": {},
   "source": [
    "# Eliminazione duplicati e valori nulli"
   ]
  },
  {
   "cell_type": "code",
   "execution_count": 76,
   "id": "cae55acd-1c90-477e-8750-9f30c9563a64",
   "metadata": {},
   "outputs": [
    {
     "name": "stdout",
     "output_type": "stream",
     "text": [
      "Numero di righe duplicate nel dataframe: 483\n",
      "\n",
      "Valori mancanti nel dataset (assoluti e percentuali):\n",
      "                Valori mancanti  Percentuale\n",
      "App                           0     0.000000\n",
      "Category                      0     0.000000\n",
      "Rating                     1474    13.596532\n",
      "Reviews                       0     0.000000\n",
      "Size                          0     0.000000\n",
      "Installs                      0     0.000000\n",
      "Type                          0     0.000000\n",
      "Price ($)                     0     0.000000\n",
      "Content Rating                0     0.000000\n",
      "Genres                        0     0.000000\n",
      "Last Updated                  0     0.000000\n",
      "Current Ver                   8     0.073794\n",
      "Android Ver                   2     0.018448\n",
      "\n",
      "Numero di righe duplicate nel secondo dataframe: 7735\n",
      "\n",
      "Valori mancanti nel secondo dataset (assoluti e percentuali):\n",
      "                        Valori mancanti  Percentuale\n",
      "App                                   0     0.000000\n",
      "Translated_Review                     5     0.013358\n",
      "Sentiment                             0     0.000000\n",
      "Sentiment_Polarity                    0     0.000000\n",
      "Sentiment_Subjectivity                0     0.000000\n"
     ]
    }
   ],
   "source": [
    "# Analisi dei duplicati: Visualizzare il numero di duplicati nel dataframe\n",
    "duplicati = df.duplicated().sum()  # Numero di duplicati\n",
    "print(f'Numero di righe duplicate nel dataframe: {duplicati}')\n",
    "\n",
    "\n",
    "# Visualizzare i valori mancanti (null) nel dataset\n",
    "missing_values = df.isnull().sum()  # Calcola i valori nulli per ogni colonna\n",
    "missing_percentage = (df.isnull().mean() * 100)  # Calcola la percentuale di valori nulli per ogni colonna\n",
    "\n",
    "# Creazione DataFrame con i valori mancanti e le percentuali\n",
    "missing_data = pd.DataFrame({\n",
    "    'Valori mancanti': missing_values,\n",
    "    'Percentuale': missing_percentage\n",
    "})\n",
    "\n",
    "# Mostra i valori mancanti per ogni colonna\n",
    "print(\"\\nValori mancanti nel dataset (assoluti e percentuali):\")\n",
    "print(missing_data)\n",
    "\n",
    "# Analisi dei duplicati nel secondo dataframe\n",
    "duplicati_gr = Gr.duplicated().sum()\n",
    "print(f'\\nNumero di righe duplicate nel secondo dataframe: {duplicati_gr}')\n",
    "\n",
    "# 4. Visualizzare i valori mancanti nel secondo dataframe\n",
    "missing_values_gr = Gr.isnull().sum()\n",
    "missing_percentage_gr = (Gr.isnull().mean() * 100)\n",
    "\n",
    "missing_data_gr = pd.DataFrame({\n",
    "    'Valori mancanti': missing_values_gr,\n",
    "    'Percentuale': missing_percentage_gr\n",
    "})\n",
    "\n",
    "print(\"\\nValori mancanti nel secondo dataset (assoluti e percentuali):\")\n",
    "print(missing_data_gr)"
   ]
  },
  {
   "cell_type": "markdown",
   "id": "a87b21c1-341c-4b1c-9720-fa1ce43e59e4",
   "metadata": {},
   "source": [
    "Per gestire la presenza di valori duplicati all'interno del dataset in modo efficiente,  \n",
    "è possibile utilizzare il metodo drop_duplicates() per rimuovere le righe duplicate in blocco, senza la necessità di trattare ogni singolo caso separatamente. "
   ]
  },
  {
   "cell_type": "code",
   "execution_count": 79,
   "id": "82380f46-26bb-4bae-b83c-8f96814ce86d",
   "metadata": {},
   "outputs": [],
   "source": [
    "df = df.drop_duplicates()\n",
    "Gr = Gr.drop_duplicates()"
   ]
  },
  {
   "cell_type": "markdown",
   "id": "188bc950-325b-41aa-80c6-99f5b4ec3a2b",
   "metadata": {},
   "source": [
    "# Trattamento valori nulli"
   ]
  },
  {
   "cell_type": "code",
   "execution_count": 82,
   "id": "af2ef2d9-098c-4eb7-8dcb-e31a201bf9fa",
   "metadata": {
    "scrolled": true
   },
   "outputs": [
    {
     "data": {
      "text/plain": [
       "App                  0\n",
       "Category             0\n",
       "Rating            1465\n",
       "Reviews              0\n",
       "Size                 0\n",
       "Installs             0\n",
       "Type                 0\n",
       "Price ($)            0\n",
       "Content Rating       0\n",
       "Genres               0\n",
       "Last Updated         0\n",
       "Current Ver          8\n",
       "Android Ver          2\n",
       "dtype: int64"
      ]
     },
     "execution_count": 82,
     "metadata": {},
     "output_type": "execute_result"
    }
   ],
   "source": [
    "df.isnull().sum()"
   ]
  },
  {
   "cell_type": "markdown",
   "id": "07d235a2-68ee-4afd-bbc9-39a61fb78484",
   "metadata": {},
   "source": [
    "Per trattare i valori nulli in Rating, si osserva lo stato per ogni categoria."
   ]
  },
  {
   "cell_type": "code",
   "execution_count": 85,
   "id": "350d4eeb-e1ce-406d-97bf-f46a0e7482cc",
   "metadata": {},
   "outputs": [
    {
     "name": "stdout",
     "output_type": "stream",
     "text": [
      "                     totale_app  nan_ratings  rating_std\n",
      "Category                                                \n",
      "ART_AND_DESIGN               65            3    0.358297\n",
      "AUTO_AND_VEHICLES            85           12    0.543692\n",
      "BEAUTY                       53           11    0.362603\n",
      "BOOKS_AND_REFERENCE         230           53    0.429861\n",
      "BUSINESS                    427          157    0.652214\n",
      "COMICS                       60            2    0.537758\n",
      "COMMUNICATION               366           59    0.438383\n",
      "DATING                      196           37    0.621058\n",
      "EDUCATION                   130            1    0.260341\n",
      "ENTERTAINMENT               111            0    0.321019\n",
      "EVENTS                       64           19    0.419499\n",
      "FAMILY                     1943          225    0.511217\n",
      "FINANCE                     360           43    0.647026\n",
      "FOOD_AND_DRINK              124           18    0.549665\n",
      "GAME                       1121           47    0.367117\n",
      "HEALTH_AND_FITNESS          306           44    0.650613\n",
      "HOUSE_AND_HOME               80           12    0.374471\n",
      "LIBRARIES_AND_DEMO           85           20    0.378522\n",
      "LIFESTYLE                   373           68    0.701960\n",
      "MAPS_AND_NAVIGATION         137           13    0.519926\n",
      "MEDICAL                     408          106    0.682571\n",
      "NEWS_AND_MAGAZINES          264           50    0.557308\n",
      "PARENTING                    60           10    0.517845\n",
      "PERSONALIZATION             388           78    0.353962\n",
      "PHOTOGRAPHY                 323           18    0.486818\n",
      "PRODUCTIVITY                407           73    0.514472\n",
      "SHOPPING                    224           22    0.431269\n",
      "SOCIAL                      280           36    0.424575\n",
      "SPORTS                      351           65    0.446895\n",
      "TOOLS                       843          109    0.616143\n",
      "TRAVEL_AND_LOCAL            237           32    0.518260\n",
      "VIDEO_PLAYERS               175           15    0.551098\n",
      "WEATHER                      82            7    0.331353\n"
     ]
    }
   ],
   "source": [
    "Status_categoria = df.groupby(\"Category\").agg(\n",
    "    totale_app=(\"App\", \"count\"),  # Conta il numero totale di app per categoria\n",
    "    nan_ratings=(\"Rating\", lambda x: x.isna().sum()),  # Conta i NaN nei rating\n",
    "    rating_std=(\"Rating\", \"std\")  # Calcola la deviazione standard dei rating\n",
    ")\n",
    "\n",
    "print(Status_categoria)"
   ]
  },
  {
   "cell_type": "markdown",
   "id": "1f68bc76-ec80-494c-9873-0bc5d18fb01e",
   "metadata": {},
   "source": [
    "Osservando attentamente questa tabella, risulta che in ogni categoria il numero di NaN è più basso rispetto al numero totale di app.  \n",
    "Inoltre, in relazione al numero di app, la deviazione standard è trascurabile.\n",
    "\n",
    "**Si possono sostituire i Nan con la media dei Rating della categoria di appartenenza**\n",
    "\n"
   ]
  },
  {
   "cell_type": "code",
   "execution_count": 90,
   "id": "ac9a7ad0-e9cc-47ee-9e90-51d693a0ab48",
   "metadata": {},
   "outputs": [],
   "source": [
    "# Calcolare la media dei rating per ogni categoria e applicarla as ogni riga\n",
    "df.loc[:, \"Rating\"] = df[\"Rating\"].fillna(df.groupby(\"Category\")[\"Rating\"].transform(\"mean\"))"
   ]
  },
  {
   "cell_type": "code",
   "execution_count": 92,
   "id": "62c00f83-d78e-4a88-a6c8-47d86bc32e55",
   "metadata": {},
   "outputs": [
    {
     "data": {
      "text/plain": [
       "App               0\n",
       "Category          0\n",
       "Rating            0\n",
       "Reviews           0\n",
       "Size              0\n",
       "Installs          0\n",
       "Type              0\n",
       "Price ($)         0\n",
       "Content Rating    0\n",
       "Genres            0\n",
       "Last Updated      0\n",
       "Current Ver       8\n",
       "Android Ver       2\n",
       "dtype: int64"
      ]
     },
     "execution_count": 92,
     "metadata": {},
     "output_type": "execute_result"
    }
   ],
   "source": [
    "df.isnull().sum()"
   ]
  },
  {
   "cell_type": "code",
   "execution_count": 94,
   "id": "093dab7d-f23c-43f0-902f-cf977a32c5e6",
   "metadata": {},
   "outputs": [
    {
     "name": "stdout",
     "output_type": "stream",
     "text": [
      "<class 'pandas.core.frame.DataFrame'>\n",
      "Index: 10358 entries, 0 to 10840\n",
      "Data columns (total 13 columns):\n",
      " #   Column          Non-Null Count  Dtype         \n",
      "---  ------          --------------  -----         \n",
      " 0   App             10358 non-null  object        \n",
      " 1   Category        10358 non-null  object        \n",
      " 2   Rating          10358 non-null  float64       \n",
      " 3   Reviews         10358 non-null  int32         \n",
      " 4   Size            10358 non-null  object        \n",
      " 5   Installs        10358 non-null  Int64         \n",
      " 6   Type            10358 non-null  object        \n",
      " 7   Price ($)       10358 non-null  float64       \n",
      " 8   Content Rating  10358 non-null  object        \n",
      " 9   Genres          10358 non-null  object        \n",
      " 10  Last Updated    10358 non-null  datetime64[ns]\n",
      " 11  Current Ver     10350 non-null  object        \n",
      " 12  Android Ver     10356 non-null  object        \n",
      "dtypes: Int64(1), datetime64[ns](1), float64(2), int32(1), object(8)\n",
      "memory usage: 1.1+ MB\n"
     ]
    }
   ],
   "source": [
    "df.info()"
   ]
  },
  {
   "cell_type": "markdown",
   "id": "f2ad0f09-4500-4d92-a7f6-5e9814a2626d",
   "metadata": {},
   "source": [
    "  Il numero di Nan nelle colonne di Versione è irrilevante.  \n",
    "  I datatype sono tutti corretti\n",
    "\n",
    "### Possiamo procedere con l'analisi"
   ]
  },
  {
   "cell_type": "markdown",
   "id": "a983c68e-63f4-4bf8-b9b9-f738f534c767",
   "metadata": {},
   "source": [
    "#### Correlazioni"
   ]
  },
  {
   "cell_type": "code",
   "execution_count": 122,
   "id": "6acc15b4-50eb-44bc-bd1b-30a784cd7505",
   "metadata": {},
   "outputs": [
    {
     "name": "stdout",
     "output_type": "stream",
     "text": [
      "          Installs   Reviews\n",
      "Installs  1.000000  0.970704\n",
      "Reviews   0.970704  1.000000\n"
     ]
    }
   ],
   "source": [
    "# Calcolare la correlazione di Spearman tra 'Installs' e 'Reviews'\n",
    "spearman_corr = df[['Installs', 'Reviews']].corr(method='spearman')\n",
    "\n",
    "# Visualizzare il risultato\n",
    "print(spearman_corr)"
   ]
  },
  {
   "cell_type": "markdown",
   "id": "6c15aed1-d06d-4365-83d3-cf9a36b99f49",
   "metadata": {},
   "source": [
    "La correlazione di Spearman tra 'Installs' e 'Reviews' è 0.97, che indica una relazione monotona molto forte.  \n",
    "Ciò significa che le app con un numero maggiore di installazioni tendono anche ad avere più recensioni.   \n",
    "Tuttavia, è importante sottolineare che la correlazione non implica causalità: un numero maggiore di installazioni\n",
    "non causa direttamente più recensioni, ma le due variabili si muovono insieme in modo consistente.  \n",
    "La correlazione di Spearman è stata scelta perché la relazione tra le variabili potrebbe non essere strettamente lineare."
   ]
  },
  {
   "cell_type": "markdown",
   "id": "2efaff1d-be75-477c-9f59-f11972fb068d",
   "metadata": {},
   "source": [
    "# Analisi di mercato\n",
    "#### Categoria"
   ]
  },
  {
   "cell_type": "code",
   "execution_count": null,
   "id": "8604e9be-851a-4f68-ad6f-06ecfefff63e",
   "metadata": {},
   "outputs": [],
   "source": [
    "import seaborn as sns\n",
    "import matplotlib.pyplot as plt\n",
    "import plotly.express as px"
   ]
  },
  {
   "cell_type": "markdown",
   "id": "9b7ed91b-3d06-4f8d-ba7b-b1ab31163dff",
   "metadata": {},
   "source": [
    "##### Quali categorie dominano il mercato?\n",
    "Per rispondere a questa domanda, si analizzano le categorie, il numero di installazioni, la percentuale di app gratis ed altri aspetti."
   ]
  },
  {
   "cell_type": "markdown",
   "id": "4219b1a6-d43a-4b3a-aee3-88d607728daf",
   "metadata": {},
   "source": [
    "**Le categorie per numero di istallazioni, e percentuale di app a pagamento e gratis**"
   ]
  },
  {
   "cell_type": "code",
   "execution_count": 107,
   "id": "15fb2c4e-100a-422d-a37b-1d5a1aa14bec",
   "metadata": {},
   "outputs": [
    {
     "name": "stdout",
     "output_type": "stream",
     "text": [
      "               Category     Installs      Free %     Paid %\n",
      "0                  GAME  31544024415   92.595897   7.404103\n",
      "1         COMMUNICATION  24152276251   92.622951   7.377049\n",
      "2                SOCIAL  12513867902   98.928571   1.071429\n",
      "3          PRODUCTIVITY  12463091369   93.120393   6.879607\n",
      "4                 TOOLS  11452771915   90.747331   9.252669\n",
      "5                FAMILY  10041692505   90.375708   9.624292\n",
      "6           PHOTOGRAPHY   9721248655   93.808050   6.191950\n",
      "7      TRAVEL_AND_LOCAL   6361887146   94.936709   5.063291\n",
      "8         VIDEO_PLAYERS   6222002720   97.714286   2.285714\n",
      "9    NEWS_AND_MAGAZINES   5393217760   99.242424   0.757576\n",
      "10             SHOPPING   2573348785   99.107143   0.892857\n",
      "11        ENTERTAINMENT   2455660000   98.198198   1.801802\n",
      "12      PERSONALIZATION   2074494782   78.865979  21.134021\n",
      "13  BOOKS_AND_REFERENCE   1916469576   87.826087  12.173913\n",
      "14               SPORTS   1528574498   93.162393   6.837607\n",
      "15   HEALTH_AND_FITNESS   1361022512   95.098039   4.901961\n",
      "16             BUSINESS    863664865   97.189696   2.810304\n",
      "17              FINANCE    770348734   95.277778   4.722222\n",
      "18  MAPS_AND_NAVIGATION    724281890   96.350365   3.649635\n",
      "19            LIFESTYLE    534823539   94.906166   5.093834\n",
      "20            EDUCATION    533952000   96.923077   3.076923\n",
      "21              WEATHER    426100520   90.243902   9.756098\n",
      "22       FOOD_AND_DRINK    257898751   98.387097   1.612903\n",
      "23               DATING    206536107   96.428571   3.571429\n",
      "24       HOUSE_AND_HOME    125212461  100.000000   0.000000\n",
      "25       ART_AND_DESIGN    124338100   95.384615   4.615385\n",
      "26   LIBRARIES_AND_DEMO     62995910   98.823529   1.176471\n",
      "27               COMICS     56086150  100.000000   0.000000\n",
      "28    AUTO_AND_VEHICLES     53130211   96.470588   3.529412\n",
      "29              MEDICAL     42204177   79.411765  20.588235\n",
      "30            PARENTING     31521110   96.666667   3.333333\n",
      "31               BEAUTY     27197050  100.000000   0.000000\n",
      "32               EVENTS     15973161   98.437500   1.562500\n"
     ]
    }
   ],
   "source": [
    "# Calcolare il numero totale di installazioni per categoria\n",
    "category_installs = df.groupby('Category')['Installs'].sum().reset_index()\n",
    "category_installs = category_installs.sort_values(by='Installs', ascending=False)\n",
    "\n",
    "# Calcolare la percentuale di app gratuite e a pagamento per categoria\n",
    "def free_paid_percentage(group):\n",
    "    \"\"\"\n",
    "    Calcola la percentuale di app gratuite e a pagamento per una categoria.\n",
    "\n",
    "    Args:\n",
    "        group (DataFrame): Un DataFrame contenente le informazioni delle app per una singola categoria.\n",
    "\n",
    "    Returns:\n",
    "        pd.Series: Una serie contenente le percentuali di app gratuite e a pagamento con le chiavi \n",
    "                   'Free %' e 'Paid %'.\n",
    "    \"\"\"\n",
    "    total = len(group)\n",
    "    free = len(group[group['Type'] == 'Free']) / total * 100\n",
    "    paid = len(group[group['Type'] == 'Paid']) / total * 100\n",
    "    return pd.Series({'Free %': free, 'Paid %': paid})\n",
    "\n",
    "category_prices = df.groupby('Category').apply(free_paid_percentage).reset_index()\n",
    "\n",
    "# Unire i due dataframe per avere una tabella completa\n",
    "final_table = category_installs.merge(category_prices, on='Category')\n",
    "\n",
    "# Mostrare la tabella finale\n",
    "print(final_table)\n"
   ]
  },
  {
   "cell_type": "markdown",
   "id": "67798461-9a7c-4fea-a37c-8bbea6151e4c",
   "metadata": {},
   "source": [
    "Questa tabella fornisce una panoramica iniziale sulle categorie di app,   \n",
    "ordinata in base al numero totale di installazioni.   \n",
    "Per ciascuna categoria, sono riportate anche le percentuali di app gratuite e a pagamento.  \n",
    "Si osserva che, in termini percentuali, **la presenza di app a pagamento è significativamente inferiore,** superando il 10% del totale in soli quattro casi."
   ]
  },
  {
   "cell_type": "code",
   "execution_count": 110,
   "id": "69ec512d-5ee1-4a87-8823-cf9b4f741653",
   "metadata": {},
   "outputs": [
    {
     "data": {
      "image/png": "[encoded data removed]",
      "text/plain": [
       "<Figure size 1200x600 with 1 Axes>"
      ]
     },
     "metadata": {},
     "output_type": "display_data"
    }
   ],
   "source": [
    "# Trovare le prime 10 categorie per numero totale di installazioni\n",
    "top_10_categories = df.groupby('Category')['Installs'].sum().nlargest(10).index\n",
    "\n",
    "# Unione dei dataframe sulla colonna 'App'\n",
    "merged_df = pd.merge(df, Gr, on='App')\n",
    "\n",
    "# Filtrare per le categorie con più installazioni\n",
    "filtered_df = merged_df[merged_df['Category'].isin(top_10_categories)]\n",
    "\n",
    "# Creazione del boxplot\n",
    "plt.figure(figsize=(12, 6))\n",
    "sns.boxplot(data=filtered_df, x='Category', y='Sentiment_Polarity', color='lightblue')\n",
    "plt.xticks(rotation=90)\n",
    "plt.title('Distribuzione del Sentiment Polarity per le Top 10 Categorie per Installazioni')\n",
    "plt.xlabel('Category')\n",
    "plt.ylabel('Sentiment Polarity')\n",
    "plt.show()\n"
   ]
  },
  {
   "cell_type": "markdown",
   "id": "a1bb92f0-1a33-4538-a7fa-18632c68c00a",
   "metadata": {},
   "source": [
    "I boxplot delle diverse categorie di app mostrano che la mediana del **Sentiment Polarity** tende ad essere simile tra le categorie, indicando che il sentimento medio delle recensioni non presenta differenze sostanziali tra di esse. Questo suggerisce che, in generale, le app in tutte le categorie tendono a suscitare reazioni simili nei recensori.\n",
    "\n",
    "Tuttavia, per la categoria GAME si osserva un numero maggiore di **outlier**, sia sopra che sotto la mediana. La presenza di questi outlier indica che, all'interno di questa categoria, ci sono alcune app che ricevono recensioni con sentimenti estremi, sia molto positivi che molto negativi.  \n",
    "Questo può significare diverse cose:\n",
    "\n",
    "**Polarizzazione delle opinioni** – I giochi tendono a suscitare emozioni forti nei giocatori: alcune persone li amano, altre li odiano. Questo spiega la presenza di molti outlier positivi (recensioni entusiaste) e negativi (recensioni molto critiche).\n",
    "\n",
    "**Esperienze diverse tra gli utenti** – I giochi possono variare molto in qualità, con alcuni che funzionano perfettamente e altri che hanno problemi tecnici, portando a recensioni estreme.\n",
    "\n",
    "**Aspettative elevate** – Gli utenti dei giochi possono avere aspettative più alte rispetto ad altre app. Se un gioco non soddisfa le aspettative, potrebbe ricevere recensioni molto negative; viceversa, se è particolarmente coinvolgente, può generare entusiasmo e recensioni molto positive.\n",
    "\n",
    "In sintesi, la categoria GAME genera reazioni più estreme rispetto alle altre, con utenti molto soddisfatti o molto delusi.  \n",
    "In maniera più ridotta, anche la categoria News And Magazine"
   ]
  },
  {
   "cell_type": "markdown",
   "id": "169a6190-bd73-4fa8-a480-d4de8a119aa1",
   "metadata": {},
   "source": [
    "# Genere"
   ]
  },
  {
   "cell_type": "markdown",
   "id": "81c1df5d-86a7-4577-b73e-fd20394d42d1",
   "metadata": {},
   "source": [
    "Secondo la descrizione della colonna su Kaggle, un'app può appartenere a più generi.\n",
    "\n",
    "Si deve  dunque considerare il fatto che un'app può essere classificata sotto più generi contemporaneamente (es. \"Musica\", \"Gioco\", \"Famiglia\" per una app musicale per famiglie).\n",
    "\n",
    "Il codice seguente dovrà gestire correttamente queste combinazioni di generi e assegnare una categoria per ogni genere, basandosi sulla categoria predominante per quel genere."
   ]
  },
  {
   "cell_type": "code",
   "execution_count": 115,
   "id": "2ae45c35-90de-4009-8d9d-9154154560b4",
   "metadata": {},
   "outputs": [
    {
     "name": "stdout",
     "output_type": "stream",
     "text": [
      "                      Genre             Category\n",
      "24                   Action                 GAME\n",
      "31       Action & Adventure               FAMILY\n",
      "29                Adventure                 GAME\n",
      "22                   Arcade                 GAME\n",
      "0              Art & Design       ART_AND_DESIGN\n",
      "3           Auto & Vehicles    AUTO_AND_VEHICLES\n",
      "4                    Beauty               BEAUTY\n",
      "27                    Board                 GAME\n",
      "5         Books & Reference  BOOKS_AND_REFERENCE\n",
      "21              Brain Games               FAMILY\n",
      "6                  Business             BUSINESS\n",
      "19                   Casual                 GAME\n",
      "8                    Comics               COMICS\n",
      "7             Communication        COMMUNICATION\n",
      "2                Creativity               FAMILY\n",
      "9                    Dating               DATING\n",
      "10                Education            EDUCATION\n",
      "32              Educational               FAMILY\n",
      "11            Entertainment        ENTERTAINMENT\n",
      "12                   Events               EVENTS\n",
      "13                  Finance              FINANCE\n",
      "14             Food & Drink       FOOD_AND_DRINK\n",
      "15         Health & Fitness   HEALTH_AND_FITNESS\n",
      "16             House & Home       HOUSE_AND_HOME\n",
      "17         Libraries & Demo   LIBRARIES_AND_DEMO\n",
      "18                Lifestyle            LIFESTYLE\n",
      "46        Maps & Navigation  MAPS_AND_NAVIGATION\n",
      "34                  Medical              MEDICAL\n",
      "33            Music & Video            PARENTING\n",
      "45         News & Magazines   NEWS_AND_MAGAZINES\n",
      "42                Parenting            PARENTING\n",
      "40          Personalization      PERSONALIZATION\n",
      "37              Photography          PHOTOGRAPHY\n",
      "1              Pretend Play               FAMILY\n",
      "41             Productivity         PRODUCTIVITY\n",
      "20                   Puzzle                 GAME\n",
      "26                   Racing                 GAME\n",
      "30             Role Playing               FAMILY\n",
      "36                 Shopping             SHOPPING\n",
      "28               Simulation               FAMILY\n",
      "35                   Social               SOCIAL\n",
      "25                   Sports               SPORTS\n",
      "23                 Strategy                 GAME\n",
      "39                    Tools                TOOLS\n",
      "38           Travel & Local     TRAVEL_AND_LOCAL\n",
      "44  Video Players & Editors        VIDEO_PLAYERS\n",
      "43                  Weather              WEATHER\n"
     ]
    }
   ],
   "source": [
    "#Unione dei due dataframe\n",
    "merged_df = pd.merge(df, Gr, on='App')\n",
    "\n",
    "# Creazione di un nuovo dataframe espandendo i generi per app\n",
    "expanded_df = merged_df.assign(Genres=merged_df['Genres'].str.split(';')).explode('Genres')\n",
    "\n",
    "# Creazione di una lista per aggiungere il genere e la categoria di appartenenza per ogni genere\n",
    "genres_with_categories = []\n",
    "\n",
    "# Ciclizzazione attraverso tutti i generi unici nel dataframe espanso\n",
    "for genre in expanded_df['Genres'].unique():\n",
    "    # Identificazione delle categorie associate al genere\n",
    "    categories = expanded_df[expanded_df['Genres'] == genre]['Category'].unique()\n",
    "    \n",
    "    # Se il genere ha più di una categoria, si considera quella più frequente\n",
    "    if len(categories) > 1:\n",
    "        category = expanded_df[expanded_df['Genres'] == genre]['Category'].mode()[0]\n",
    "    else:\n",
    "        category = categories[0]\n",
    "    \n",
    "    # Aggiunta del genere e la categoria alla lista\n",
    "    genres_with_categories.append((genre, category))\n",
    "\n",
    "# Creazione di un dataframe con il risultato\n",
    "genres_categories_df = pd.DataFrame(genres_with_categories, columns=['Genre', 'Category'])\n",
    "\n",
    "# Ordinamento dei risultati per genere (opzionale)\n",
    "genres_categories_df = genres_categories_df.sort_values(by='Genre')\n",
    "\n",
    "# Visualizzazione del dataframe\n",
    "print(genres_categories_df)"
   ]
  },
  {
   "cell_type": "markdown",
   "id": "7ed31388-a8ce-4880-8381-290fe33a31be",
   "metadata": {},
   "source": [
    "La funzione str.split(';') divide i generi se un'app ne ha più di uno (ad esempio, un gioco musicale per famiglie che appartiene a \"Musica\", \"Gioco\", \"Famiglia\"). La funzione explode('Genres') crea una nuova riga per ogni genere, quindi ogni genere sarà trattato separatamente.\n",
    "\n",
    "Dopo aver espanso i generi, il codice associa ogni genere alla categoria predominante utilizzando il metodo .mode()[0] per ottenere la categoria più frequente. Se un genere ha una sola categoria, quella viene automaticamente associata.\n",
    "\n",
    "Il risultato finale è una tabella che mostra ogni genere e la sua categoria"
   ]
  },
  {
   "cell_type": "markdown",
   "id": "cc1a10db-406d-4078-b142-afe8ef9dacd5",
   "metadata": {},
   "source": [
    "Nel prossimo output verrano mostrati i generi più popolari (utilizzando expanded_df), scrivendo tra parentesi la categoria di appartenenza"
   ]
  },
  {
   "cell_type": "code",
   "execution_count": 119,
   "id": "e95ae68b-c118-4491-b2bc-407df4750c74",
   "metadata": {},
   "outputs": [
    {
     "data": {
      "image/png": "[encoded data removed]",
      "text/plain": [
       "<Figure size 1000x600 with 1 Axes>"
      ]
     },
     "metadata": {},
     "output_type": "display_data"
    }
   ],
   "source": [
    "# Somma delle installazioni per ciascun genere\n",
    "installations_by_genre = expanded_df.groupby('Genres')['Installs'].sum().sort_values(ascending=False)\n",
    "\n",
    "# Selezione dei primi 10 generi in base alle installazioni\n",
    "top_10_genres = installations_by_genre.head(10)\n",
    "\n",
    "# Creazione di una lista per aggiungere la categoria di appartenenza tra parentesi\n",
    "top_10_genres_with_category = []\n",
    "\n",
    "# Aggiunta della categoria tra parentesi per ogni genere\n",
    "for genre in top_10_genres.index:\n",
    "    # Identificazione della categoria predominante per ciascun genere\n",
    "    categories = expanded_df[expanded_df['Genres'] == genre]['Category'].unique()\n",
    "    if len(categories) > 1:\n",
    "        category = expanded_df[expanded_df['Genres'] == genre]['Category'].mode()[0]\n",
    "    else:\n",
    "        category = categories[0]\n",
    "    \n",
    "    # Aggiunta del genere e la categoria alla lista\n",
    "    top_10_genres_with_category.append(f\"{genre} ({category})\")\n",
    "\n",
    "# Creazione del barplot orizzontale\n",
    "plt.figure(figsize=(10, 6)) \n",
    "sns.barplot(y=top_10_genres_with_category, x=top_10_genres.values, color='darkblue', orient='h')\n",
    "\n",
    "# Titolo e le etichette\n",
    "plt.title(\"Distribuzione dei Top 10 Generi nelle App in base alle Installazioni\", fontsize=16)\n",
    "plt.xlabel(\"Totale Installazioni\", fontsize=12)\n",
    "plt.ylabel(\"Genere (Categoria)\", fontsize=12)\n",
    "\n",
    "# Griglia\n",
    "plt.grid(axis='x', linestyle='--', alpha=0.7)\n",
    "\n",
    "plt.show()\n",
    "\n"
   ]
  },
  {
   "cell_type": "markdown",
   "id": "1b9e19c8-f2d1-4484-a17d-de8c58f08d22",
   "metadata": {},
   "source": [
    "La categoria \"Game\" risulta essere la più popolare, come evidenziato dalla frequente presenza della stringa \"Game\" tra le parentesi.    \n",
    "Ma a livello di **genere**, le applicazioni più popolari appartengono alle categorie della fotografia e della comunicazione."
   ]
  },
  {
   "cell_type": "markdown",
   "id": "8eb9752a-2fd7-4d07-a3de-b4ebef8d4971",
   "metadata": {},
   "source": [
    "**Quali elementi fanno la differenza nella valutazione degli utenti?**  \n",
    "Per avere una panoramica esaustiva su questi 10 generi, e capire quali elementi condizionano la valutazione degli utenti, si estrapolano le stringhe delle recensioni.\n",
    "\n",
    "Con il prossimo codice, si estraggono 2 commenti positivi e 2 negativi (a caso) per ognuno di questi 10 generi."
   ]
  },
  {
   "cell_type": "code",
   "execution_count": 124,
   "id": "48434ca7-676e-48a1-b3d8-e18015a9fb4e",
   "metadata": {},
   "outputs": [
    {
     "name": "stdout",
     "output_type": "stream",
     "text": [
      "Genere: Photography\n",
      "Positivi:\n",
      "                               App  \\\n",
      "2181  A+ Gallery - Photos & Videos   \n",
      "2189  A+ Gallery - Photos & Videos   \n",
      "\n",
      "                                                                                                                                                                                                               Translated_Review  \n",
      "2181  The good. But I 2 problems 1. I cannot remove album cover set. I change another picture. Please fix this. 2. When selecting pics right column, scroll bar gets activated tone. This irritating since scroll way back were.  \n",
      "2189                                                                                                                                                                                           I love much better gallery apps..  \n",
      "Negativi:\n",
      "                               App  \\\n",
      "2180  A+ Gallery - Photos & Videos   \n",
      "2182  A+ Gallery - Photos & Videos   \n",
      "\n",
      "                                                                                                                                                                                                                                                    Translated_Review  \n",
      "2180  I dropped rating! As last update I longer delete photos!! What happened?? I often take extra pics order choose right delete extra. Now I cannot delete memory filling unwanted unneeded pics!! Some I try delete multiplying!! PLEASE FIX back old version!! :(  \n",
      "2182                                                                                                                                                                 Installed x3. put shortcut home screen therefore unusable since I find launch it. Really stupid.  \n",
      "\n",
      "\n",
      "Genere: Communication\n",
      "Positivi:\n",
      "                               App  \\\n",
      "640  2ndLine - Second Phone Number   \n",
      "641  2ndLine - Second Phone Number   \n",
      "\n",
      "                                                                                                                                                                                                         Translated_Review  \n",
      "640  It's really good, I problem. When make groupchats tells whole groupchat ((your email)) used second line create chat send messages groupchat, actul message says email. I would like fixed please. Other that, amazing  \n",
      "641                                                                Everyday, someone keeps calling me.. kinda bugs me.. every night.. I've send guys email every detail freakin mysterious call, hope hear good news you..  \n",
      "Negativi:\n",
      "                               App  \\\n",
      "649  2ndLine - Second Phone Number   \n",
      "650  2ndLine - Second Phone Number   \n",
      "\n",
      "                                                                                                                                             Translated_Review  \n",
      "649    I loved ads starting popping using it. Get rid ads dominating entire screen. I hate that. At least put ads corners make small really hinder well I app.  \n",
      "650  I'm using Premium still poor quality calls. Voice breaks badly sometimes people can't even understand I tell them, 4G Wi-Fi, connection, poorly designed.  \n",
      "\n",
      "\n",
      "Genere: Casual\n",
      "Positivi:\n",
      "                App  \\\n",
      "7312  Angry Birds 2   \n",
      "7313  Angry Birds 2   \n",
      "\n",
      "                                                                                                                                                                                                                                                                                                                                                                                          Translated_Review  \n",
      "7312  So much fun addictive, brain teaser sometimes quite challenging. Love grow game, love endless levels, love die different types games game, keeps busy hours. One favourite games. I still get hatching part I enjoy game much. Would nice get birds game. Sometimes apples hard get far good. Thanks great game. Love free videos watch get extra birds sometimes. It always helps. It's clever...:-)  \n",
      "7313                                                                                                                                      I love game can't I play eagle game load. And also I playing elevator game sudden nothing happening let cash things I won. And I lost lot I minded I quite bit happy I lost all. Plz sort asap. Be nice angry birds could sort gems us possible. That would great  \n",
      "Negativi:\n",
      "                App  \\\n",
      "7321  Angry Birds 2   \n",
      "7328  Angry Birds 2   \n",
      "\n",
      "                                                                                                                                                                                       Translated_Review  \n",
      "7321  Was loving game, latest update. Now keeps running slow, crashing. I've emailed them, tried fixes. Their solution delete it, again. But I Facebook account, I can't save hours progress. NOT HAPPY.  \n",
      "7328                                             I enjoyed game Birthday Adventure came on. Won't let past second game due game hitch - play first round bird get birds next round fail level. Not happy  \n",
      "\n",
      "\n",
      "Genere: Social\n",
      "Positivi:\n",
      "                      App  \\\n",
      "5812  All Social Networks   \n",
      "5813  All Social Networks   \n",
      "\n",
      "                                                                                                                                                                                                                                                Translated_Review  \n",
      "5812                What TOTAL waste time. CONSTANTLY plugging apps... again. Admittedly I started once, IMMEDIATELY gave insecure feeling going data, secure would be. And ongoing flogging drove crazy. I immediately removed I feel safe comfortable using it.  \n",
      "5813  This app,is really good People,even though simple thing do,Is basically store bookmarks social media website,but compress less storage People want heavier like fb ETC. basically love app,don't matter simple is,as long help People Support it. Good job!  \n",
      "Negativi:\n",
      "                      App  \\\n",
      "5814  All Social Networks   \n",
      "5816  All Social Networks   \n",
      "\n",
      "                                                                                                                                                               Translated_Review  \n",
      "5814  clickbait. phony. fake. person created made paid every install designed advertise third party sites apps. disgust me. hope enjoy money cause thatz ever getting dig? peace  \n",
      "5816                                                                                         It's horrible tap tells TO MANY ADS IN ads pop every 2 seconds awful DO NOT GET THE  \n",
      "\n",
      "\n",
      "Genere: News & Magazines\n",
      "Positivi:\n",
      "                             App  \\\n",
      "2419  ABC News - US & World News   \n",
      "2422  ABC News - US & World News   \n",
      "\n",
      "                                                                                                                                                                                                           Translated_Review  \n",
      "2419                                                                                                                               What done notifications never work video crystal clear the. update day notifications all.  \n",
      "2422  This great Roku since get control want watch, like free DVR. I test chromcast available there. I suggest getting Roku, physical remote zero buffing pretty amazing. I became cord cutter 2018 make wallet great again.  \n",
      "Negativi:\n",
      "                             App  \\\n",
      "2418  ABC News - US & World News   \n",
      "2420  ABC News - US & World News   \n",
      "\n",
      "                                                                                           Translated_Review  \n",
      "2418  I would like lot better, crashing restarting Every 60 90 seconds. It's annoying halfway article crash.  \n",
      "2420                                 Terrible. No recent replays Chromecast. Needs update NBC way better go.  \n",
      "\n",
      "\n",
      "Genere: Tools\n",
      "Positivi:\n",
      "                      App  \\\n",
      "3347  ASUS Sound Recorder   \n",
      "3354  ASUS Sound Recorder   \n",
      "\n",
      "                                                                              Translated_Review  \n",
      "3347                                                                                  Very good  \n",
      "3354  I'm totally impressed many ASUS like \"Sound Recorder\" superior quality that's simple use.  \n",
      "Negativi:\n",
      "                      App      Translated_Review\n",
      "3338  ASUS Sound Recorder  Add Dark Theme Please\n",
      "3361  ASUS Sound Recorder      Missing changelog\n",
      "\n",
      "\n",
      "Genere: Action\n",
      "Positivi:\n",
      "          App  \\\n",
      "4512  Agar.io   \n",
      "4517  Agar.io   \n",
      "\n",
      "                                                                                                                                                                                                    Translated_Review  \n",
      "4512  All game great! I really enjoy years now. But thing keeping rating 5 stars. When \"create skin\" update hit, I excited create seeing friend make one. So I updated, I can't make skins Facebook ac... Full Review  \n",
      "4517                                                I bought potions add says 15 skins pieces I got 8 sling pieces useless pieces I got pieces I already has.. good buying options I get pieces worth it.. disappoint  \n",
      "Negativi:\n",
      "          App  \\\n",
      "4514  Agar.io   \n",
      "4516  Agar.io   \n",
      "\n",
      "                                                                                                                                                                                                                                                Translated_Review  \n",
      "4514  The lag ridiculous. Even full bars internet horrible. Maybe fix people get turned playing. I also emailed company regarding rush working continuously get ignored. This disgusting behaviour people want keep going. Unless problems resolved game die fast  \n",
      "4516                                                                                                         This game sucks full bots! And I got proof 1 always target another person despite size. 2 gain mass reason. 3 glitch. 4 everyone teams. 5 dumb names  \n",
      "\n",
      "\n",
      "Genere: Productivity\n",
      "Positivi:\n",
      "                                 App  \\\n",
      "1228  7 Weeks - Habit & Goal Tracker   \n",
      "1233  7 Weeks - Habit & Goal Tracker   \n",
      "\n",
      "                                                                                                                                                                                                                                                                                                         Translated_Review  \n",
      "1228  Wonderful This done amazing things perfectionist attitude. I used make long impossible complete lists I finish. Everyday I felt like failure. Now I list couple things I finish days finally. From time time add couple new things I'm able finish lists too. I feel free failing everyday. Thank much creating app!  \n",
      "1233                                                                                                      This worked wonders me! The problem I find I think current day bit lagged behind sometimes I get early still highlights previous day. But big issue, aside perfect! Highly recommended anyone wants track habits  \n",
      "Negativi:\n",
      "                                 App  \\\n",
      "1221  7 Weeks - Habit & Goal Tracker   \n",
      "1226  7 Weeks - Habit & Goal Tracker   \n",
      "\n",
      "                                                                                                                                                                                                                                                                        Translated_Review  \n",
      "1221  bland boring, even paid level. Not recommended till add features! Wish fields new habit section, add details, also ability colour code habits organize better perhaps category section sort habits. ie: habits improve school life, work life etc. Un-installing till things added.  \n",
      "1226                             Minimalistic Effecient The exactly advertises. The design sleek instructions clear. I switched another complicated objective tracker (such working times week date night week) optional skip days. That Rewire - tad better management. But tired while.  \n",
      "\n",
      "\n",
      "Genere: Arcade\n",
      "Positivi:\n",
      "                      App  \\\n",
      "7355  Angry Birds Classic   \n",
      "7357  Angry Birds Classic   \n",
      "\n",
      "                                                                                                                                                                                                                                                                                                            Translated_Review  \n",
      "7355  Good job Rovio, good job joining pay play band wagon.... I mind ads add cliche pay win features like coins gems? Why?.... Disappointing... But I doubt company would ever change game well, money pays bills right....i doubt company guys even look feedback reviews otherwise would never strayed darkside free play.  \n",
      "7357                                                                                                                                  The Miller lite beer ads really need removed. There kids play this. No needs liquor ads/commercials, adults know what's choose that. Otherwise great game. Shut WiFi/data want ad free.  \n",
      "Negativi:\n",
      "                      App  \\\n",
      "7352  Angry Birds Classic   \n",
      "7353  Angry Birds Classic   \n",
      "\n",
      "                                                                                                                                                                                                                                                     Translated_Review  \n",
      "7352  Way many ads. I remember Angry Birds first came fun. Now nothing constant ads forced videos timers proceed. Makes game virtually unplayable, I've uninstalled it. A shame, too. But I'm going held hostage ads videos. Bad enough YouTube it. And Rovio YouTube.  \n",
      "7353                    Angry Birds used game could tap play heart's content. Now gone fee-to-pay (sic) -- read reviews see well received. Not well understatement. I'd say more, gain 50 stars read new paragraph. Meanwhile, watch unskippable half-minute-long ads.  \n",
      "\n",
      "\n",
      "Genere: Education\n",
      "Positivi:\n",
      "               App  \\\n",
      "2054  A Word A Day   \n",
      "2055  A Word A Day   \n",
      "\n",
      "                                                                         Translated_Review  \n",
      "2054  Great Would even better selection page displayed diacritics properly. Fix 5 stars :)  \n",
      "2055                            Nice I love it. It's handy I need new words college papers  \n",
      "Negativi:\n",
      "                            App           Translated_Review\n",
      "11116  Babbel – Learn Languages  Its good help. I hate pay.\n",
      "11156  Babbel – Learn Languages  Its good help. I hate pay.\n",
      "\n",
      "\n"
     ]
    }
   ],
   "source": [
    "# Impostare Pandas così da mostrare l'intero contenuto della colonna 'Translated_Review'\n",
    "pd.set_option('display.max_colwidth', None)\n",
    "\n",
    "# Supponiamo che 'top_10_genres_with_category' sia una lista di generi\n",
    "top_10_genres_with_category = [\n",
    "    'Photography', 'Communication', 'Casual', 'Social', 'News & Magazines',\n",
    "    'Tools', 'Action', 'Productivity', 'Arcade', 'Education'\n",
    "]\n",
    "\n",
    "# Filtramo il dataframe Gr per ottenere solo le app che appartengono ai generi specificati\n",
    "app_in_top_genres = df[df['Genres'].isin(top_10_genres_with_category)]['App']\n",
    "gr_filtrato = Gr[Gr['App'].isin(app_in_top_genres)].copy()  # Creiamo una copia per evitare il warning\n",
    "\n",
    "# Aggiungiamo una colonna che determina se il commento è positivo, negativo o neutrale\n",
    "gr_filtrato['Sentiment_Type'] = gr_filtrato['Sentiment_Polarity'].apply(\n",
    "    lambda x: 'positive' if x > 0 else 'negative' if x < 0 else 'neutral'\n",
    ")\n",
    "\n",
    "# Dizionario per memorizzare i commenti per ciascun genere\n",
    "commenti_per_genere = {}\n",
    "\n",
    "# Estraimo 2 commenti positivi e 2 negativi per ogni genere\n",
    "for genere in top_10_genres_with_category:\n",
    "    # Filtra le app appartenenti al genere specifico\n",
    "    apps_in_genere = df[df['Genres'] == genere]['App']\n",
    "    gr_genere = gr_filtrato[gr_filtrato['App'].isin(apps_in_genere)]\n",
    "    \n",
    "    # Separiamo i commenti positivi e negativi\n",
    "    commenti_positivi = gr_genere[gr_genere['Sentiment_Type'] == 'positive'].head(2)\n",
    "    commenti_negativi = gr_genere[gr_genere['Sentiment_Type'] == 'negative'].head(2)\n",
    "    \n",
    "    # Salviamo i commenti nel dizionario\n",
    "    commenti_per_genere[genere] = {\n",
    "        'Positive_Comments': commenti_positivi[['App', 'Translated_Review']],\n",
    "        'Negative_Comments': commenti_negativi[['App', 'Translated_Review']],\n",
    "    }\n",
    "\n",
    "# Visualizziamo i risultati\n",
    "for genere, commenti in commenti_per_genere.items():\n",
    "    print(f\"Genere: {genere}\")\n",
    "    print(\"Positivi:\")\n",
    "    print(commenti['Positive_Comments'])\n",
    "    print(\"Negativi:\")\n",
    "    print(commenti['Negative_Comments'])\n",
    "    print(\"\\n\")"
   ]
  },
  {
   "cell_type": "markdown",
   "id": "814b64a3-3b2c-405d-9b88-6888045e7f75",
   "metadata": {},
   "source": [
    "Dopo aver analizzato i commenti di diverse app suddivisi per genere, possiamo trarre diverse conclusioni generali e considerazioni utili per sviluppare una nuova app.\n",
    "### Cosa penalizza la valutazione di un app?\n",
    "**Crash continui e lentezza di esecuzione:** Molti commenti evidenziano problemi di stabilità delle app, come nel caso di giochi o app di produttività che smettono di funzionare dopo un aggiornamento o diventano più lente. È importante assicurarsi che le app siano stabili e ben ottimizzate per evitare frustrazione negli utenti. \n",
    " \n",
    "**Problemi con gli aggiornamenti:** Alcuni utenti menzionano che dopo gli aggiornamenti le app smettono di funzionare correttamente, come nel caso di \"Angry Birds 2\". Questo suggerisce che è essenziale fare test approfonditi prima di rilasciare un aggiornamento.  \n",
    "\n",
    "\n",
    "**Difficoltà nell’utilizzo ed interfaccia poco chiara:** Molti utenti segnalano difficoltà con l’interfaccia utente, come nel caso di app di salute o social che hanno un'interfaccia confusa o non intuitiva.\n",
    "Bisogna prestare attenzione al design.  \n",
    "\n",
    "**Ads:** Diversi commenti negativi fanno riferimento agli annunci invasivi o fastidiosi, che possono danneggiare l’esperienza dell'utente. \n",
    "La pubblicità non deve essere troppo invasiva.\n",
    "\n",
    "\n",
    "**Mancanza di funzionalità:** Gli utenti spesso vogliono più personalizzazione la possibilità di personalizzare le app o di aggiungere nuove caratteristiche. Ad esempio, alcuni commenti negativi nelle app di Fotografia menzionano che funzionalità essenziali, come la possibilità di eliminare album o foto, non sono più disponibili o non funzionano come dovrebbero dopo gli aggiornamenti\n",
    "\n",
    "**Valutazione della qualità:** Le app di comunicazione o musica potrebbero essere criticate per la qualità scarsa delle chiamate o della connessione (ad esempio, per 2ndLine - Second Phone Number, la recensione recita \"non capisco cosa dicono, la connessione è pessima\"). Assicurarsi che la qualità audio e video sia di livello è cruciale per app come quelle di social media o comunicazione.\n",
    "\n",
    "### Che cosa migliora la valutazione?\n",
    "\n",
    "**Funzionalità gratuite:** Le app che offrono funzionalità gratuite come nel caso di \"Angry Birds 2\", dove gli utenti apprezzano la possibilità di guardare video gratuiti per ottenere vantaggi, possono migliorare il coinvolgimento dell'utente.  \n",
    "\n",
    "**Aggiornamenti regolari:** Molte app vengono ritenute obsolete quando non vengono aggiornate regolarmente, come nel caso della \"7 Day Food Journal Challenge\" che è stata abbandonata senza aggiornamenti per un anno.\n",
    "\n",
    "**Importanza della gestione degli errori e delle prestazioni:** Gli utenti segnalano frustrazione quando le app non gestiscono correttamente gli errori (ad esempio, app che si chiudono improvvisamente o che non rispondono correttamente ai comandi dell'utente). La gestione degli errori e l'implementazione di un sistema di feedback chiaro sono essenziali.   \n",
    "**Supporto utenti:** Alcuni utenti si lamentano di non ricevere supporto rapido per risolvere problemi. È fondamentale avere un supporto clienti efficiente che risolva rapidamente eventuali problematiche."
   ]
  },
  {
   "cell_type": "markdown",
   "id": "4e497200-58af-431d-bf3e-817e05cc5dfe",
   "metadata": {},
   "source": [
    "# App Gratis VS App a pagamento.\n",
    "### Quale effetto sul rating?"
   ]
  },
  {
   "cell_type": "code",
   "execution_count": 128,
   "id": "33162aee-bbd9-4c95-93e7-4bcbabf74744",
   "metadata": {},
   "outputs": [
    {
     "data": {
      "image/png": "[encoded data removed]",
      "text/plain": [
       "<Figure size 800x500 with 1 Axes>"
      ]
     },
     "metadata": {},
     "output_type": "display_data"
    }
   ],
   "source": [
    "# Creazione del boxplot\n",
    "plt.figure(figsize=(8, 5))\n",
    "sns.boxplot(data=df, x='Type', y='Rating', palette=['lightblue', 'lightcoral'])\n",
    "\n",
    "plt.title('Confronto Rating tra App Gratuite e a Pagamento')\n",
    "plt.xlabel('Tipo di App')\n",
    "plt.ylabel('Rating')\n",
    "plt.show()"
   ]
  },
  {
   "cell_type": "markdown",
   "id": "bbc69214-9f97-4897-8c55-d4695c51b136",
   "metadata": {},
   "source": [
    "#### La variabilità della distribuzione del Rating è simile per entrambe le categorie (Free e Paid).\n",
    "Le app Paid hanno un punteggio leggermente più alto rispetto a quelle Free.\n",
    "La fitta presenza di outlier nelle App free significa hanno più valutazioni molto basse rispetto a quelle a pagamento.\n",
    "\n",
    "Ciò suggerisce che le app a pagamento potrebbero offrire un’esperienza più stabile e soddisfacente, mentre quelle gratuite possono variare molto in qualità."
   ]
  },
  {
   "cell_type": "markdown",
   "id": "f02d6ac8-db56-4d47-8998-d1f34b828610",
   "metadata": {},
   "source": [
    "**Quale effetto sul sentiment?**"
   ]
  },
  {
   "cell_type": "code",
   "execution_count": 132,
   "id": "045d14d2-b21c-4e72-b1be-7b6cfba85458",
   "metadata": {},
   "outputs": [
    {
     "data": {
      "image/png": "[encoded data removed]",
      "text/plain": [
       "<Figure size 1200x600 with 2 Axes>"
      ]
     },
     "metadata": {},
     "output_type": "display_data"
    }
   ],
   "source": [
    "# Calcolo della percentuale di ciascun tipo di sentiment per ciascun tipo di app (Paid vs Free)\n",
    "sentiment_percentage = merged_df.groupby(['Type', 'Sentiment']).size().unstack(fill_value=0)\n",
    "sentiment_percentage = sentiment_percentage.apply(lambda x: x / x.sum() * 100, axis=1)\n",
    "\n",
    "# Separazione dei dati per Paid e Free\n",
    "paid_sentiment = sentiment_percentage.loc['Paid']\n",
    "free_sentiment = sentiment_percentage.loc['Free']\n",
    "\n",
    "# Creazione di grafici a torta\n",
    "fig, axes = plt.subplots(1, 2, figsize=(12, 6))  # Ridotta la dimensione del grafico\n",
    "\n",
    "# Grafico a torta per Paid\n",
    "axes[0].pie(paid_sentiment, labels=paid_sentiment.index, autopct='%1.1f%%', colors=['lightgreen', 'lightcoral', 'lightskyblue'])\n",
    "axes[0].set_title('Sentiment per App a Pagamento (Paid)', fontsize=14, fontweight='bold')\n",
    "axes[0].set_ylabel('', fontsize=12, fontweight='bold')  # Rimuoviamo etichetta asse Y e aggiungiamo in grassetto\n",
    "\n",
    "# Grafico a torta per Free\n",
    "axes[1].pie(free_sentiment, labels=free_sentiment.index, autopct='%1.1f%%', colors=['lightgreen', 'lightcoral', 'lightskyblue'])\n",
    "axes[1].set_title('Sentiment per App Gratuita (Free)', fontsize=14, fontweight='bold')\n",
    "axes[1].set_ylabel('', fontsize=12, fontweight='bold')  # Rimuoviamo etichetta asse Y e aggiungiamo in grassetto\n",
    "\n",
    "# Etichette\n",
    "for ax in axes:\n",
    "    for label in ax.get_xticklabels() + ax.get_yticklabels():\n",
    "        label.set_fontweight('bold')\n",
    "\n",
    "plt.tight_layout()\n",
    "plt.show()"
   ]
  },
  {
   "cell_type": "markdown",
   "id": "2b981f4d-c168-41e7-9e1f-777fa059a8f7",
   "metadata": {},
   "source": [
    "**La differenza della distribuzione in percentuale è lieve, ma si puù affermare che le app a pagamento tendono ad avere maggior sentiment positivo**"
   ]
  },
  {
   "cell_type": "markdown",
   "id": "92103ea2-1cb5-4cbc-8b27-f3b7b8e5f13e",
   "metadata": {},
   "source": [
    "## Analisi delle Recensioni e Sentiment"
   ]
  },
  {
   "cell_type": "markdown",
   "id": "8f4b9e4f-94d6-41b1-995a-13da8562cc02",
   "metadata": {},
   "source": [
    "# Sentiment"
   ]
  },
  {
   "cell_type": "markdown",
   "id": "e11193be-5f41-4466-9532-c9890ef61963",
   "metadata": {},
   "source": [
    "### Analisi testuale"
   ]
  },
  {
   "cell_type": "markdown",
   "id": "ae0a570d-217a-4769-ae33-a0c535bad575",
   "metadata": {},
   "source": [
    "Nel prossimo output verrano mostrate alcune delle recensioni positive e negative per le 10 categorie più popolari, e con un'alta soglia di livello di Sentiment_Subjectivity così da poter vedere quali elementi condizionano il sentiment"
   ]
  },
  {
   "cell_type": "code",
   "execution_count": 139,
   "id": "14cf55b8-94e7-417c-837e-e95569f00662",
   "metadata": {},
   "outputs": [],
   "source": [
    "from collections import Counter\n",
    "from wordcloud import WordCloud"
   ]
  },
  {
   "cell_type": "code",
   "execution_count": 141,
   "id": "d08e2c39-e2cc-4168-bd6b-2e7173dfd297",
   "metadata": {},
   "outputs": [
    {
     "name": "stdout",
     "output_type": "stream",
     "text": [
      "Colonne nel DataFrame 'merged_df': Index(['App', 'Translated_Review', 'Sentiment', 'Sentiment_Polarity',\n",
      "       'Sentiment_Subjectivity', 'Category'],\n",
      "      dtype='object')\n",
      "Colonne nel DataFrame 'extreme_sentiment_df': Index(['App', 'Sentiment', 'Sentiment_Subjectivity', 'Translated_Review',\n",
      "       'Category'],\n",
      "      dtype='object')\n",
      "Categoria: GAME\n",
      "\n",
      "App: 1LINE – One Line with One Touch\n",
      "Sentiment: Positive\n",
      "Subjectivity: 1.0\n",
      "Recensione: Very nice\n",
      "\n",
      "App: 1LINE – One Line with One Touch\n",
      "Sentiment: Positive\n",
      "Subjectivity: 1.0\n",
      "Recensione: Superb\n",
      "\n",
      "App: 8 Ball Pool\n",
      "Sentiment: Negative\n",
      "Subjectivity: 1.0\n",
      "Recensione: I keep getting requests gifts even though person say sent never sent all. I know today I got request friend passed away couple months ago. Absolutely disgusting. 1 star\n",
      "\n",
      "App: Angry Birds Classic\n",
      "Sentiment: Negative\n",
      "Subjectivity: 1.0\n",
      "Recensione: Devs still can't bothered fix freezing issue. I understand must concentrating underpar sequel (2) disgusting.\n",
      "\n",
      "--------------------------------------------------\n",
      "Categoria: COMMUNICATION\n",
      "\n",
      "App: 2ndLine - Second Phone Number\n",
      "Sentiment: Positive\n",
      "Subjectivity: 1.0\n",
      "Recensione: This aap awesome\n",
      "\n",
      "App: 2ndLine - Second Phone Number\n",
      "Sentiment: Positive\n",
      "Subjectivity: 1.0\n",
      "Recensione: fix problem \"the error occurred\" i'm happy give five stars\n",
      "\n",
      "App: AT&T Visual Voicemail\n",
      "Sentiment: Negative\n",
      "Subjectivity: 1.0\n",
      "Recensione: horrible, even work anymore, manually refresh get vm\n",
      "\n",
      "App: Android Messages\n",
      "Sentiment: Negative\n",
      "Subjectivity: 1.0\n",
      "Recensione: Every time crash! Error message showing\" Android message unfortunately stopped\" Please fix this.\n",
      "\n",
      "--------------------------------------------------\n",
      "Categoria: TOOLS\n",
      "\n",
      "App: ASUS Sound Recorder\n",
      "Sentiment: Positive\n",
      "Subjectivity: 1.0\n",
      "Recensione: Nice\n",
      "\n",
      "App: ASUS Sound Recorder\n",
      "Sentiment: Positive\n",
      "Subjectivity: 1.0\n",
      "Recensione: Excellent\n",
      "\n",
      "App: Account Manager\n",
      "Sentiment: Negative\n",
      "Subjectivity: 1.0\n",
      "Recensione: Worst update ever sony... Hangs phone apps... Security Locks working.. Battery life reduced... I factory reset phone work again.\n",
      "\n",
      "App: Age Calculator\n",
      "Sentiment: Negative\n",
      "Subjectivity: 1.0\n",
      "Recensione: Why ur requires storage permission!? Remove need develop stupid requirement!\n",
      "\n",
      "--------------------------------------------------\n",
      "Categoria: PRODUCTIVITY\n",
      "\n",
      "App: ASUS SuperNote\n",
      "Sentiment: Positive\n",
      "Subjectivity: 1.0\n",
      "Recensione: The nice page limit satisfied.\n",
      "\n",
      "App: ASUS SuperNote\n",
      "Sentiment: Positive\n",
      "Subjectivity: 1.0\n",
      "Recensione: Nice store copy save information.\n",
      "\n",
      "App: Archos File Manager\n",
      "Sentiment: Negative\n",
      "Subjectivity: 1.0\n",
      "Recensione: Its boring I cant\n",
      "\n",
      "App: AutoCAD - DWG Viewer & Editor\n",
      "Sentiment: Negative\n",
      "Subjectivity: 1.0\n",
      "Recensione: How I create array? I trying draw star shape. It tedious copy, rotate move.\n",
      "\n",
      "--------------------------------------------------\n",
      "Categoria: SOCIAL\n",
      "\n",
      "App: Badoo - Free Chat & Dating App\n",
      "Sentiment: Positive\n",
      "Subjectivity: 1.0\n",
      "Recensione: Nice\n",
      "\n",
      "App: Banjo\n",
      "Sentiment: Positive\n",
      "Subjectivity: 1.0\n",
      "Recensione: View world Very nice way overview things happening around place. Can also nice get pictures events.\n",
      "\n",
      "App: All Social Networks\n",
      "Sentiment: Negative\n",
      "Subjectivity: 1.0\n",
      "Recensione: All Pop ads flash every 2 minutes intrusive. It's impossible avoid clicking every one.\n",
      "\n",
      "App: Badoo - Free Chat & Dating App\n",
      "Sentiment: Negative\n",
      "Subjectivity: 1.0\n",
      "Recensione: Horrible sign process.\n",
      "\n",
      "--------------------------------------------------\n",
      "Categoria: PHOTOGRAPHY\n",
      "\n",
      "App: A+ Gallery - Photos & Videos\n",
      "Sentiment: Positive\n",
      "Subjectivity: 1.0\n",
      "Recensione: Very nice\n",
      "\n",
      "App: Blur Image Background\n",
      "Sentiment: Positive\n",
      "Subjectivity: 1.0\n",
      "Recensione: Nice\n",
      "\n",
      "App: A+ Gallery - Photos & Videos\n",
      "Sentiment: Negative\n",
      "Subjectivity: 1.0\n",
      "Recensione: Installed x3. put shortcut home screen therefore unusable since I find launch it. Really stupid.\n",
      "\n",
      "App: A+ Gallery - Photos & Videos\n",
      "Sentiment: Negative\n",
      "Subjectivity: 1.0\n",
      "Recensione: World's worst photo gallery.\n",
      "\n",
      "--------------------------------------------------\n",
      "Categoria: FAMILY\n",
      "\n",
      "App: ABC Kids - Tracing & Phonics\n",
      "Sentiment: Positive\n",
      "Subjectivity: 1.0\n",
      "Recensione: WONDERFUL My daughter loves this. And writes ABC paper writes neatly now.\n",
      "\n",
      "App: ABC Kids - Tracing & Phonics\n",
      "Sentiment: Positive\n",
      "Subjectivity: 1.0\n",
      "Recensione: Nice learning kids, kids get bored sometime.\n",
      "\n",
      "App: A Call From Santa Claus!\n",
      "Sentiment: Negative\n",
      "Subjectivity: 1.0\n",
      "Recensione: My son figured fake. It give time kid answer. He keeps talking. My son figured recording stopped talking recording kept playing.\n",
      "\n",
      "App: A Call From Santa Claus!\n",
      "Sentiment: Negative\n",
      "Subjectivity: 1.0\n",
      "Recensione: I thought quite scary creators number weird said name I acc\n",
      "\n",
      "--------------------------------------------------\n",
      "Categoria: VIDEO_PLAYERS\n",
      "\n",
      "App: All Video Downloader 2018\n",
      "Sentiment: Positive\n",
      "Subjectivity: 1.0\n",
      "Recensione: I'm using Samsung grand neo plus. work me....is downloading like it.. grand users bothered please\n",
      "\n",
      "App: All Video Downloader 2018\n",
      "Sentiment: Positive\n",
      "Subjectivity: 1.0\n",
      "Recensione: Funny thing happened\n",
      "\n",
      "App: DU Recorder – Screen Recorder, Video Editor, Live\n",
      "Sentiment: Negative\n",
      "Subjectivity: 1.0\n",
      "Recensione: Worst screen recording I've used far records background noise worst part option store device folder\n",
      "\n",
      "App: Droid Zap by Motorola\n",
      "Sentiment: Negative\n",
      "Subjectivity: 1.0\n",
      "Recensione: Location requirement bs Requires location, extreme privacy issues. Stay away.\n",
      "\n",
      "--------------------------------------------------\n",
      "Categoria: TRAVEL_AND_LOCAL\n",
      "\n",
      "App: Agoda – Hotel Booking Deals\n",
      "Sentiment: Positive\n",
      "Subjectivity: 1.0\n",
      "Recensione: Excellent hotel booking. None matches price Agoda\n",
      "\n",
      "App: Agoda – Hotel Booking Deals\n",
      "Sentiment: Positive\n",
      "Subjectivity: 1.0\n",
      "Recensione: Nice apps, sufficient information make hotel booking.\n",
      "\n",
      "App: AirAsia\n",
      "Sentiment: Negative\n",
      "Subjectivity: 1.0\n",
      "Recensione: Horrible interface. Seems like team even bother read user reviews.\n",
      "\n",
      "App: Airbnb\n",
      "Sentiment: Negative\n",
      "Subjectivity: 1.0\n",
      "Recensione: Very difficult longwinded use. Also expect wait 24 hours booking confirmed yet money taken.\n",
      "\n",
      "--------------------------------------------------\n",
      "Categoria: NEWS_AND_MAGAZINES\n",
      "\n",
      "App: AC - Tips & News for Android™\n",
      "Sentiment: Positive\n",
      "Subjectivity: 1.0\n",
      "Recensione: What world going app? It longer opens phones (except Note 8) Mobile Nations respond emails.\n",
      "\n",
      "App: AC - Tips & News for Android™\n",
      "Sentiment: Positive\n",
      "Subjectivity: 1.0\n",
      "Recensione: One favorite news\n",
      "\n",
      "App: AC - Tips & News for Android™\n",
      "Sentiment: Negative\n",
      "Subjectivity: 1.0\n",
      "Recensione: The worst! I can't even log in! It take username I tried!! And I tried create account using 2 diff emails!\n",
      "\n",
      "App: AC - Tips & News for Android™\n",
      "Sentiment: Negative\n",
      "Subjectivity: 1.0\n",
      "Recensione: Ads everywhere, impossible scroll news ads popping everywhere!\n",
      "\n",
      "--------------------------------------------------\n"
     ]
    }
   ],
   "source": [
    "# Selezionare le prime 10 categorie per numero di installazioni\n",
    "top_categories = df.groupby('Category')[['Installs']].sum().sort_values(by='Installs', ascending=False).head(10)\n",
    "\n",
    "# Filtrare le app appartenenti alle top categorie\n",
    "apps_top_categories = df[df['Category'].isin(top_categories.index)][['App', 'Category']]\n",
    "\n",
    "# Unire il dataset delle recensioni con quello delle app\n",
    "merged_df = Gr.merge(apps_top_categories, on='App')\n",
    "\n",
    "# Verifica che 'Category' sia presente nel DataFrame merged_df\n",
    "if 'Category' not in merged_df.columns:\n",
    "    print(\"Errore: 'Category' non presente in merged_df\")\n",
    "else:\n",
    "    print(\"Colonne nel DataFrame 'merged_df':\", merged_df.columns)\n",
    "\n",
    "# Selezionare le recensioni per ogni categoria\n",
    "extreme_sentiment_apps = []\n",
    "\n",
    "for category in top_categories.index:\n",
    "    target_apps = merged_df[merged_df['Category'] == category]\n",
    "    \n",
    "    # Filtrare le recensioni con Sentiment_Subjectivity uguale a 1 (completamente soggettive)\n",
    "    subjectivity_1_reviews = target_apps[target_apps['Sentiment_Subjectivity'] == 1]\n",
    "    \n",
    "    # Selezionare le recensioni positive e negative basandosi su 'Sentiment_Subjectivity' uguale a 1\n",
    "    positive_reviews = subjectivity_1_reviews[subjectivity_1_reviews['Sentiment'] == 'Positive'].nlargest(2, 'Sentiment_Subjectivity')[['App', 'Sentiment', 'Sentiment_Subjectivity', 'Translated_Review', 'Category']]\n",
    "    negative_reviews = subjectivity_1_reviews[subjectivity_1_reviews['Sentiment'] == 'Negative'].nsmallest(2, 'Sentiment_Subjectivity')[['App', 'Sentiment', 'Sentiment_Subjectivity', 'Translated_Review', 'Category']]\n",
    "    \n",
    "    # Unire i risultati delle recensioni positive e negative\n",
    "    extreme_sentiment_apps.append(pd.concat([positive_reviews, negative_reviews]))\n",
    "\n",
    "# Creare un DataFrame finale con le recensioni estreme\n",
    "extreme_sentiment_df = pd.concat(extreme_sentiment_apps)\n",
    "\n",
    "# Verifica che 'Category' sia presente nel DataFrame finale\n",
    "if 'Category' not in extreme_sentiment_df.columns:\n",
    "    print(\"Errore: 'Category' non presente in extreme_sentiment_df\")\n",
    "else:\n",
    "    print(\"Colonne nel DataFrame 'extreme_sentiment_df':\", extreme_sentiment_df.columns)\n",
    "\n",
    "# Stampare i risultati\n",
    "for category in top_categories.index:\n",
    "    print(f\"Categoria: {category}\\n\")\n",
    "    \n",
    "    if category not in extreme_sentiment_df['Category'].values:\n",
    "        print(f\"Nessuna recensione disponibile per la categoria '{category}'.\\n\")\n",
    "    else:\n",
    "        target_apps = extreme_sentiment_df[extreme_sentiment_df['Category'] == category]\n",
    "        for _, row in target_apps.iterrows():\n",
    "            print(f\"App: {row['App']}\\nSentiment: {row['Sentiment']}\\nSubjectivity: {row['Sentiment_Subjectivity']}\\nRecensione: {row['Translated_Review']}\\n\")\n",
    "    print(\"-\" * 50)"
   ]
  },
  {
   "cell_type": "markdown",
   "id": "598d4340-e35a-4f38-bc42-1a1d26e514da",
   "metadata": {},
   "source": [
    "Oltre ai problemi di prestazioni, usabilità e bug, un altro aspetto importante da considerare è la **compatibilità.**   \n",
    "Il problema di compatibilità è segnalato in una delle recensioni (positiva) per l'app \"All Video Downloader 2018\".  \n",
    "Nel dettaglio, la recensione recita: \n",
    "\"I'm using Samsung grand neo plus. work me....is downloading like it.. grand users bothered please\"  \n",
    "\n",
    "Questa recensione fa riferimento al fatto che l'app funziona per alcuni utenti, ma sembra che ci sia un problema di compatibilità con i dispositivi Samsung Grand Neo Plus, suggerendo che gli utenti con questo modello di telefono potrebbero avere problemi durante l'uso dell'app."
   ]
  },
  {
   "cell_type": "markdown",
   "id": "69bcddcc-f28f-4007-ad3c-5e9de9280be5",
   "metadata": {},
   "source": [
    "# CONSIDERAZIONE FINALE"
   ]
  },
  {
   "cell_type": "markdown",
   "id": "0c6f729a-7aff-4cc7-b005-959cf7abfb4b",
   "metadata": {},
   "source": [
    "Per creare un'app di successo, dovremmo considerare diversi fattori chiave:\n",
    "\n",
    "1. **Ottimizzazione delle prestazioni**\n",
    "Assicurarsi che l'app sia stabile e ben ottimizzata. Gli utenti sono particolarmente sensibili a crash e rallentamenti.\n",
    "2. Gestione degli errori: Implementare una **gestione degli errori solida e un sistema di feedback chiaro** per risolvere i problemi in modo tempestivo. Le app che si chiudono improvvisamente o che non rispondono correttamente agli input degli utenti generano frustrazione.\n",
    "3. **Interfaccia chiara e intuitiva:** Molti utenti lamentano interfacce poco intuitive.\n",
    "4. **Aggiornamenti regolari:** Fornire aggiornamenti costanti per correggere bug, migliorare le funzionalità e mantenere l'app allineata con le aspettative degli utenti. Le app che non vengono aggiornate per un lungo periodo tendono a sembrare obsolete.\n",
    "5. Gestione delle **recensioni e feedback:** monitorare continuamente le recensioni.\n",
    "6. Prezzo: Il **rapporto qualità-prezzo** è fondamentale: se un'app è a pagamento, gli utenti si aspettano un'esperienza impeccabile. È essenziale **investire in un team dedicato** che garantisca aggiornamenti regolari, prestazioni ottimali e supporto tempestivo per mantenere alta la soddisfazione e giustificare il costo.\n",
    "7. **Compatibilità:** assicurarsi che l'app funzioni correttamente su una varietà di dispositivi e sistemi operativi.\n",
    "8. Pubblicità e monetizzazione: se l'app è gratuita, trovare un **equilibrio tra monetizzazione e esperienza utente.** La pubblicità invasiva può danneggiare l’esperienza dell'utente e portare a recensioni negative.\n",
    "9. Funzionalità premium: Offri funzionalità premium senza compromettere l'esperienza dell'utente per chi non acquista la versione a pagamento. Fornire un buon valore nella versione gratuita incentiva gli utenti a passare alla versione a pagamento.\n",
    "10. **Supporto utenti:** Implementare un sistema di supporto clienti efficiente per risolvere rapidamente le problematiche degli utenti. Un buon servizio clienti può fare la differenza nelle recensioni e nella soddisfazione complessiva degli utenti.\n",
    "11. **Opzioni di personalizzazione:** Offrire agli utenti opzioni di personalizzazione per adattare l'app alle loro esigenze personali può migliorare l'engagement e la soddisfazione. \n",
    "\n"
   ]
  }
 ],
 "metadata": {
  "kernelspec": {
   "display_name": "Python [conda env:base] *",
   "language": "python",
   "name": "conda-base-py"
  },
  "language_info": {
   "codemirror_mode": {
    "name": "ipython",
    "version": 3
   },
   "file_extension": ".py",
   "mimetype": "text/x-python",
   "name": "python",
   "nbconvert_exporter": "python",
   "pygments_lexer": "ipython3",
   "version": "3.11.5"
  }
 },
 "nbformat": 4,
 "nbformat_minor": 5
}
